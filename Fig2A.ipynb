{
 "cells": [
  {
   "cell_type": "code",
   "execution_count": 1,
   "metadata": {
    "execution": {
     "iopub.execute_input": "2024-12-06T18:45:13.739128Z",
     "iopub.status.busy": "2024-12-06T18:45:13.738908Z",
     "iopub.status.idle": "2024-12-06T18:45:16.716026Z",
     "shell.execute_reply": "2024-12-06T18:45:16.715247Z"
    }
   },
   "outputs": [],
   "source": [
    "import os\n",
    "import glob\n",
    "import topmed_manuscript_clean as tm\n",
    "import pandas as pd\n",
    "import matplotlib.pyplot as plt\n",
    "from matplotlib.patches import Patch\n",
    "import matplotlib.cm\n",
    "import matplotlib as mpl\n",
    "from matplotlib.colors import ListedColormap\n",
    "import seaborn as sns\n",
    "import numpy as np\n",
    "\n",
    "\n",
    "def add_legend_from_colors(labels, cmap, ax, loc='best', reverse=False):\n",
    "    \"\"\"\n",
    "    Given a dictionary from label --> color and a matplotlib ax,\n",
    "    add a legend to the ax\n",
    "    \"\"\"\n",
    "    floats = [i/(len(labels) - 1) for i in range(len(labels))]\n",
    "    c = matplotlib.cm.get_cmap(cmap) if isinstance(cmap, str) else cmap\n",
    "    d = {label: {'facecolor': c(f)} for label, f in zip(labels, floats)}\n",
    "    legend_elements = [Patch(label=label, **kwargs) for label, kwargs in d.items()]\n",
    "    if reverse:\n",
    "        legend_elements = legend_elements[::-1]\n",
    "    ax.legend(handles=legend_elements, loc=loc)\n",
    "    return ax\n",
    "\n",
    "\n",
    "def hack_cmap(cmap_name, n):\n",
    "    cmap = mpl.cm.get_cmap(cmap_name)\n",
    "    cmap = cmap(range(256))\n",
    "    cmap = cmap[np.linspace(0, 255, n+1).astype(int)[:-1]]\n",
    "    return ListedColormap(cmap)\n",
    "\n",
    "PREFIX = 'Fig2A.'\n",
    "METADATA = '../../manuscript-intermediate-processing/data/metadata/metadata.tm.txt'"
   ]
  },
  {
   "cell_type": "code",
   "execution_count": 2,
   "metadata": {
    "execution": {
     "iopub.execute_input": "2024-12-06T18:45:16.719791Z",
     "iopub.status.busy": "2024-12-06T18:45:16.719238Z",
     "iopub.status.idle": "2024-12-06T18:45:30.788499Z",
     "shell.execute_reply": "2024-12-06T18:45:30.788066Z"
    }
   },
   "outputs": [],
   "source": [
    "# load in primary hits\n",
    "CIS_EQTL_PERMUTATIONS_GLOB = glob.glob('../../manuscript-intermediate-processing/data/scan-results/joint/cis-eqtl/permutations/maf*/*.txt.gz')\n",
    "CIS_SQTL_PERMUTATIONS_GLOB = glob.glob('../../manuscript-intermediate-processing/data/scan-results/joint/cis-sqtl/permutations/maf*/*.txt.gz')\n",
    "cis_eqtl_permutations_all = pd.concat([pd.read_csv(f, sep='\\t').assign(tissue=os.path.basename(f).split('.')[0], pcs=int(os.path.basename(f).split('.')[1]), maf='1%' if 'maf001' in f else '0.1%') for f in CIS_EQTL_PERMUTATIONS_GLOB])\n",
    "cis_sqtl_permutations_all = pd.concat([pd.read_csv(f, sep='\\t').assign(tissue=os.path.basename(f).split('.')[0], pcs=int(os.path.basename(f).split('.')[1]), maf='1%' if 'maf001' in f else '0.1%') for f in CIS_SQTL_PERMUTATIONS_GLOB])\n",
    "cis_eqtl_permutations = cis_eqtl_permutations_all[cis_eqtl_permutations_all.tissue.map(tm.cis_eqtl_pcs) == cis_eqtl_permutations_all.pcs]\n",
    "cis_sqtl_permutations = cis_sqtl_permutations_all[cis_sqtl_permutations_all.tissue.map(tm.cis_sqtl_pcs) == cis_sqtl_permutations_all.pcs]\n",
    "permutations = pd.concat([cis_eqtl_permutations.assign(modality='cis-eQTL'), cis_sqtl_permutations.assign(modality='cis-sQTL')])\n",
    "permutations['gene_id'] = permutations.phenotype_id.map(tm.phenotype_id_to_gene_id)"
   ]
  },
  {
   "cell_type": "code",
   "execution_count": 3,
   "metadata": {
    "execution": {
     "iopub.execute_input": "2024-12-06T18:45:30.791420Z",
     "iopub.status.busy": "2024-12-06T18:45:30.791249Z",
     "iopub.status.idle": "2024-12-06T18:45:30.811575Z",
     "shell.execute_reply": "2024-12-06T18:45:30.811248Z"
    }
   },
   "outputs": [],
   "source": [
    "metadata = pd.read_csv(METADATA, sep='\\t')\n",
    "sample_size_dict = metadata[metadata.used_for_scan].groupby('tissue').size().to_dict()\n",
    "tissue_order = list(sorted(sample_size_dict.keys(), key=lambda x: sample_size_dict[x], reverse=False))"
   ]
  },
  {
   "cell_type": "code",
   "execution_count": 4,
   "metadata": {
    "execution": {
     "iopub.execute_input": "2024-12-06T18:45:30.812995Z",
     "iopub.status.busy": "2024-12-06T18:45:30.812851Z",
     "iopub.status.idle": "2024-12-06T18:45:42.320789Z",
     "shell.execute_reply": "2024-12-06T18:45:42.319683Z"
    }
   },
   "outputs": [
    {
     "data": {
      "text/html": [
       "<div>\n",
       "<style scoped>\n",
       "    .dataframe tbody tr th:only-of-type {\n",
       "        vertical-align: middle;\n",
       "    }\n",
       "\n",
       "    .dataframe tbody tr th {\n",
       "        vertical-align: top;\n",
       "    }\n",
       "\n",
       "    .dataframe thead th {\n",
       "        text-align: right;\n",
       "    }\n",
       "</style>\n",
       "<table border=\"1\" class=\"dataframe\">\n",
       "  <thead>\n",
       "    <tr style=\"text-align: right;\">\n",
       "      <th></th>\n",
       "      <th>phenotype_id</th>\n",
       "      <th>variant_id</th>\n",
       "      <th>pip</th>\n",
       "      <th>af</th>\n",
       "      <th>cs_id</th>\n",
       "      <th>tissue</th>\n",
       "      <th>maf</th>\n",
       "      <th>modality</th>\n",
       "      <th>gene_id</th>\n",
       "      <th>unique_cs_id</th>\n",
       "    </tr>\n",
       "  </thead>\n",
       "  <tbody>\n",
       "    <tr>\n",
       "      <th>0</th>\n",
       "      <td>ENSG00000112685.14</td>\n",
       "      <td>chr6_692805_C_G</td>\n",
       "      <td>1.000000</td>\n",
       "      <td>0.682804</td>\n",
       "      <td>1</td>\n",
       "      <td>Lung</td>\n",
       "      <td>1%</td>\n",
       "      <td>cis-eQTL</td>\n",
       "      <td>ENSG00000112685.14</td>\n",
       "      <td>ENSG00000112685.14___L1</td>\n",
       "    </tr>\n",
       "    <tr>\n",
       "      <th>1</th>\n",
       "      <td>ENSG00000112685.14</td>\n",
       "      <td>chr6_506781_A_G</td>\n",
       "      <td>0.043571</td>\n",
       "      <td>0.578234</td>\n",
       "      <td>2</td>\n",
       "      <td>Lung</td>\n",
       "      <td>1%</td>\n",
       "      <td>cis-eQTL</td>\n",
       "      <td>ENSG00000112685.14</td>\n",
       "      <td>ENSG00000112685.14___L2</td>\n",
       "    </tr>\n",
       "    <tr>\n",
       "      <th>2</th>\n",
       "      <td>ENSG00000112685.14</td>\n",
       "      <td>chr6_518078_G_A</td>\n",
       "      <td>0.038384</td>\n",
       "      <td>0.595662</td>\n",
       "      <td>2</td>\n",
       "      <td>Lung</td>\n",
       "      <td>1%</td>\n",
       "      <td>cis-eQTL</td>\n",
       "      <td>ENSG00000112685.14</td>\n",
       "      <td>ENSG00000112685.14___L2</td>\n",
       "    </tr>\n",
       "    <tr>\n",
       "      <th>3</th>\n",
       "      <td>ENSG00000112685.14</td>\n",
       "      <td>chr6_518480_A_T</td>\n",
       "      <td>0.071511</td>\n",
       "      <td>0.594888</td>\n",
       "      <td>2</td>\n",
       "      <td>Lung</td>\n",
       "      <td>1%</td>\n",
       "      <td>cis-eQTL</td>\n",
       "      <td>ENSG00000112685.14</td>\n",
       "      <td>ENSG00000112685.14___L2</td>\n",
       "    </tr>\n",
       "    <tr>\n",
       "      <th>4</th>\n",
       "      <td>ENSG00000112685.14</td>\n",
       "      <td>chr6_528568_T_C</td>\n",
       "      <td>0.058727</td>\n",
       "      <td>0.595275</td>\n",
       "      <td>2</td>\n",
       "      <td>Lung</td>\n",
       "      <td>1%</td>\n",
       "      <td>cis-eQTL</td>\n",
       "      <td>ENSG00000112685.14</td>\n",
       "      <td>ENSG00000112685.14___L2</td>\n",
       "    </tr>\n",
       "  </tbody>\n",
       "</table>\n",
       "</div>"
      ],
      "text/plain": [
       "         phenotype_id       variant_id       pip        af  cs_id tissue maf  \\\n",
       "0  ENSG00000112685.14  chr6_692805_C_G  1.000000  0.682804      1   Lung  1%   \n",
       "1  ENSG00000112685.14  chr6_506781_A_G  0.043571  0.578234      2   Lung  1%   \n",
       "2  ENSG00000112685.14  chr6_518078_G_A  0.038384  0.595662      2   Lung  1%   \n",
       "3  ENSG00000112685.14  chr6_518480_A_T  0.071511  0.594888      2   Lung  1%   \n",
       "4  ENSG00000112685.14  chr6_528568_T_C  0.058727  0.595275      2   Lung  1%   \n",
       "\n",
       "   modality             gene_id             unique_cs_id  \n",
       "0  cis-eQTL  ENSG00000112685.14  ENSG00000112685.14___L1  \n",
       "1  cis-eQTL  ENSG00000112685.14  ENSG00000112685.14___L2  \n",
       "2  cis-eQTL  ENSG00000112685.14  ENSG00000112685.14___L2  \n",
       "3  cis-eQTL  ENSG00000112685.14  ENSG00000112685.14___L2  \n",
       "4  cis-eQTL  ENSG00000112685.14  ENSG00000112685.14___L2  "
      ]
     },
     "execution_count": 4,
     "metadata": {},
     "output_type": "execute_result"
    }
   ],
   "source": [
    "CIS_EQTL_SUSIE_GLOB = glob.glob('../../manuscript-intermediate-processing/data/scan-results/joint/cis-eqtl/susie/maf*/*.cs.txt')\n",
    "CIS_SQTL_SUSIE_GLOB = glob.glob('../../manuscript-intermediate-processing/data/scan-results/joint/cis-sqtl/susie/maf*/postprocessed/*.by-gene.cs.txt')\n",
    "cis_eqtl_susie = pd.concat([pd.read_csv(f, sep='\\t').assign(tissue=os.path.basename(f).split('.')[0], maf='1%' if 'maf001' in f else '0.1%') for f in CIS_EQTL_SUSIE_GLOB])\n",
    "cis_sqtl_susie = pd.concat([pd.read_csv(f, sep='\\t').assign(tissue=os.path.basename(f).split('.')[0], maf='1%' if 'maf001' in f else '0.1%') for f in CIS_SQTL_SUSIE_GLOB])\n",
    "cis_susie = pd.concat([cis_eqtl_susie.assign(modality='cis-eQTL'), cis_sqtl_susie.assign(modality='cis-sQTL')])\n",
    "cis_susie['gene_id'] = cis_susie.phenotype_id.map(tm.phenotype_id_to_gene_id)\n",
    "cis_susie['unique_cs_id'] = cis_susie.phenotype_id + '___L' + cis_susie.cs_id.astype(str)\n",
    "cis_susie.head()"
   ]
  },
  {
   "cell_type": "code",
   "execution_count": 5,
   "metadata": {
    "execution": {
     "iopub.execute_input": "2024-12-06T18:45:42.355369Z",
     "iopub.status.busy": "2024-12-06T18:45:42.354173Z",
     "iopub.status.idle": "2024-12-06T18:45:43.701535Z",
     "shell.execute_reply": "2024-12-06T18:45:43.700942Z"
    }
   },
   "outputs": [
    {
     "data": {
      "text/html": [
       "<div>\n",
       "<style scoped>\n",
       "    .dataframe tbody tr th:only-of-type {\n",
       "        vertical-align: middle;\n",
       "    }\n",
       "\n",
       "    .dataframe tbody tr th {\n",
       "        vertical-align: top;\n",
       "    }\n",
       "\n",
       "    .dataframe thead th {\n",
       "        text-align: right;\n",
       "    }\n",
       "</style>\n",
       "<table border=\"1\" class=\"dataframe\">\n",
       "  <thead>\n",
       "    <tr style=\"text-align: right;\">\n",
       "      <th></th>\n",
       "      <th>tissue</th>\n",
       "      <th>maf</th>\n",
       "      <th>modality</th>\n",
       "      <th>gene_id</th>\n",
       "      <th>signals</th>\n",
       "    </tr>\n",
       "  </thead>\n",
       "  <tbody>\n",
       "    <tr>\n",
       "      <th>0</th>\n",
       "      <td>Lung</td>\n",
       "      <td>1%</td>\n",
       "      <td>cis-eQTL</td>\n",
       "      <td>ENSG00000112679.14</td>\n",
       "      <td>0</td>\n",
       "    </tr>\n",
       "    <tr>\n",
       "      <th>1</th>\n",
       "      <td>Lung</td>\n",
       "      <td>1%</td>\n",
       "      <td>cis-eQTL</td>\n",
       "      <td>ENSG00000112685.14</td>\n",
       "      <td>4</td>\n",
       "    </tr>\n",
       "    <tr>\n",
       "      <th>2</th>\n",
       "      <td>Lung</td>\n",
       "      <td>1%</td>\n",
       "      <td>cis-eQTL</td>\n",
       "      <td>ENSG00000272463.1</td>\n",
       "      <td>1</td>\n",
       "    </tr>\n",
       "    <tr>\n",
       "      <th>3</th>\n",
       "      <td>Lung</td>\n",
       "      <td>1%</td>\n",
       "      <td>cis-eQTL</td>\n",
       "      <td>ENSG00000271727.1</td>\n",
       "      <td>0</td>\n",
       "    </tr>\n",
       "    <tr>\n",
       "      <th>4</th>\n",
       "      <td>Lung</td>\n",
       "      <td>1%</td>\n",
       "      <td>cis-eQTL</td>\n",
       "      <td>ENSG00000281809.1</td>\n",
       "      <td>0</td>\n",
       "    </tr>\n",
       "  </tbody>\n",
       "</table>\n",
       "</div>"
      ],
      "text/plain": [
       "  tissue maf  modality             gene_id  signals\n",
       "0   Lung  1%  cis-eQTL  ENSG00000112679.14        0\n",
       "1   Lung  1%  cis-eQTL  ENSG00000112685.14        4\n",
       "2   Lung  1%  cis-eQTL   ENSG00000272463.1        1\n",
       "3   Lung  1%  cis-eQTL   ENSG00000271727.1        0\n",
       "4   Lung  1%  cis-eQTL   ENSG00000281809.1        0"
      ]
     },
     "execution_count": 5,
     "metadata": {},
     "output_type": "execute_result"
    }
   ],
   "source": [
    "# plot number of signals per e/sGene\n",
    "signals_per_gene = cis_susie.groupby(['tissue', 'maf', 'modality', 'gene_id']).cs_id.nunique().rename('signals').reset_index()\n",
    "all_esgenes = permutations.loc[permutations.qval<=0.05,['tissue', 'maf', 'modality', 'gene_id']]\n",
    "signals_per_gene = all_esgenes.merge(signals_per_gene, how='left')\n",
    "signals_per_gene.signals = signals_per_gene.signals.fillna(0).astype(int)\n",
    "signals_per_gene.head()"
   ]
  },
  {
   "cell_type": "code",
   "execution_count": 6,
   "metadata": {
    "execution": {
     "iopub.execute_input": "2024-12-06T18:45:43.704545Z",
     "iopub.status.busy": "2024-12-06T18:45:43.704288Z",
     "iopub.status.idle": "2024-12-06T18:45:46.323896Z",
     "shell.execute_reply": "2024-12-06T18:45:46.323344Z"
    }
   },
   "outputs": [
    {
     "data": {
      "text/html": [
       "<div>\n",
       "<style scoped>\n",
       "    .dataframe tbody tr th:only-of-type {\n",
       "        vertical-align: middle;\n",
       "    }\n",
       "\n",
       "    .dataframe tbody tr th {\n",
       "        vertical-align: top;\n",
       "    }\n",
       "\n",
       "    .dataframe thead th {\n",
       "        text-align: right;\n",
       "    }\n",
       "</style>\n",
       "<table border=\"1\" class=\"dataframe\">\n",
       "  <thead>\n",
       "    <tr style=\"text-align: right;\">\n",
       "      <th></th>\n",
       "      <th>tissue</th>\n",
       "      <th>maf</th>\n",
       "      <th>modality</th>\n",
       "      <th>phenotype_id</th>\n",
       "      <th>cs_id</th>\n",
       "      <th>variants</th>\n",
       "      <th>size_bin</th>\n",
       "    </tr>\n",
       "  </thead>\n",
       "  <tbody>\n",
       "    <tr>\n",
       "      <th>0</th>\n",
       "      <td>Lung</td>\n",
       "      <td>1%</td>\n",
       "      <td>cis-eQTL</td>\n",
       "      <td>ENSG00000000003.14</td>\n",
       "      <td>1</td>\n",
       "      <td>1</td>\n",
       "      <td>1</td>\n",
       "    </tr>\n",
       "    <tr>\n",
       "      <th>1</th>\n",
       "      <td>Lung</td>\n",
       "      <td>1%</td>\n",
       "      <td>cis-eQTL</td>\n",
       "      <td>ENSG00000000457.14</td>\n",
       "      <td>1</td>\n",
       "      <td>2</td>\n",
       "      <td>2-5</td>\n",
       "    </tr>\n",
       "    <tr>\n",
       "      <th>2</th>\n",
       "      <td>Lung</td>\n",
       "      <td>1%</td>\n",
       "      <td>cis-eQTL</td>\n",
       "      <td>ENSG00000000460.17</td>\n",
       "      <td>1</td>\n",
       "      <td>347</td>\n",
       "      <td>100+</td>\n",
       "    </tr>\n",
       "    <tr>\n",
       "      <th>3</th>\n",
       "      <td>Lung</td>\n",
       "      <td>1%</td>\n",
       "      <td>cis-eQTL</td>\n",
       "      <td>ENSG00000000460.17</td>\n",
       "      <td>2</td>\n",
       "      <td>33</td>\n",
       "      <td>11-99</td>\n",
       "    </tr>\n",
       "    <tr>\n",
       "      <th>4</th>\n",
       "      <td>Lung</td>\n",
       "      <td>1%</td>\n",
       "      <td>cis-eQTL</td>\n",
       "      <td>ENSG00000000971.15</td>\n",
       "      <td>1</td>\n",
       "      <td>12</td>\n",
       "      <td>11-99</td>\n",
       "    </tr>\n",
       "  </tbody>\n",
       "</table>\n",
       "</div>"
      ],
      "text/plain": [
       "  tissue maf  modality        phenotype_id  cs_id  variants size_bin\n",
       "0   Lung  1%  cis-eQTL  ENSG00000000003.14      1         1        1\n",
       "1   Lung  1%  cis-eQTL  ENSG00000000457.14      1         2      2-5\n",
       "2   Lung  1%  cis-eQTL  ENSG00000000460.17      1       347     100+\n",
       "3   Lung  1%  cis-eQTL  ENSG00000000460.17      2        33    11-99\n",
       "4   Lung  1%  cis-eQTL  ENSG00000000971.15      1        12    11-99"
      ]
     },
     "execution_count": 6,
     "metadata": {},
     "output_type": "execute_result"
    }
   ],
   "source": [
    "cs_size = cis_susie.groupby(['tissue', 'maf', 'modality', 'phenotype_id', 'cs_id']).variant_id.nunique().rename('variants').reset_index()\n",
    "cs_size['size_bin'] = tm.bin_integers(cs_size.variants.to_list(), ['1', '2-5', '6-10', '11-99', '100+'])\n",
    "cs_size.head()"
   ]
  },
  {
   "cell_type": "code",
   "execution_count": 7,
   "metadata": {
    "execution": {
     "iopub.execute_input": "2024-12-06T18:45:46.327679Z",
     "iopub.status.busy": "2024-12-06T18:45:46.327124Z",
     "iopub.status.idle": "2024-12-06T18:45:48.647579Z",
     "shell.execute_reply": "2024-12-06T18:45:48.647050Z"
    }
   },
   "outputs": [
    {
     "data": {
      "text/html": [
       "<div>\n",
       "<style scoped>\n",
       "    .dataframe tbody tr th:only-of-type {\n",
       "        vertical-align: middle;\n",
       "    }\n",
       "\n",
       "    .dataframe tbody tr th {\n",
       "        vertical-align: top;\n",
       "    }\n",
       "\n",
       "    .dataframe thead th {\n",
       "        text-align: right;\n",
       "    }\n",
       "</style>\n",
       "<table border=\"1\" class=\"dataframe\">\n",
       "  <thead>\n",
       "    <tr style=\"text-align: right;\">\n",
       "      <th>variable</th>\n",
       "      <th>tissue</th>\n",
       "      <th>modality</th>\n",
       "      <th>primary</th>\n",
       "      <th>secondary</th>\n",
       "    </tr>\n",
       "  </thead>\n",
       "  <tbody>\n",
       "    <tr>\n",
       "      <th>0</th>\n",
       "      <td>Lung</td>\n",
       "      <td>cis-eQTL</td>\n",
       "      <td>15323</td>\n",
       "      <td>9815</td>\n",
       "    </tr>\n",
       "    <tr>\n",
       "      <th>1</th>\n",
       "      <td>Lung</td>\n",
       "      <td>cis-sQTL</td>\n",
       "      <td>7389</td>\n",
       "      <td>8105</td>\n",
       "    </tr>\n",
       "    <tr>\n",
       "      <th>2</th>\n",
       "      <td>Monocyte</td>\n",
       "      <td>cis-eQTL</td>\n",
       "      <td>7732</td>\n",
       "      <td>2550</td>\n",
       "    </tr>\n",
       "    <tr>\n",
       "      <th>3</th>\n",
       "      <td>Monocyte</td>\n",
       "      <td>cis-sQTL</td>\n",
       "      <td>3009</td>\n",
       "      <td>1983</td>\n",
       "    </tr>\n",
       "    <tr>\n",
       "      <th>4</th>\n",
       "      <td>Nasal_epithelial</td>\n",
       "      <td>cis-eQTL</td>\n",
       "      <td>10078</td>\n",
       "      <td>2606</td>\n",
       "    </tr>\n",
       "  </tbody>\n",
       "</table>\n",
       "</div>"
      ],
      "text/plain": [
       "variable            tissue  modality  primary  secondary\n",
       "0                     Lung  cis-eQTL    15323       9815\n",
       "1                     Lung  cis-sQTL     7389       8105\n",
       "2                 Monocyte  cis-eQTL     7732       2550\n",
       "3                 Monocyte  cis-sQTL     3009       1983\n",
       "4         Nasal_epithelial  cis-eQTL    10078       2606"
      ]
     },
     "execution_count": 7,
     "metadata": {},
     "output_type": "execute_result"
    }
   ],
   "source": [
    "cs_counts = cis_susie.groupby(['tissue', 'modality', 'maf']).unique_cs_id.nunique().rename('cs').reset_index()\n",
    "cs_counts['sample_size'] = cs_counts.tissue.map(sample_size_dict)\n",
    "primary_signals = cis_susie.groupby(['tissue', 'maf', 'modality']).gene_id.nunique().rename('primary_signals').reset_index()\n",
    "cs_counts = cs_counts.merge(primary_signals)\n",
    "cs_counts['secondary_signals'] = cs_counts.cs - cs_counts.primary_signals\n",
    "secondary_vs_primary_counts = cs_counts.drop(columns='cs').melt(id_vars=['tissue', 'maf', 'modality', 'sample_size'])\n",
    "secondary_vs_primary_counts.variable = secondary_vs_primary_counts.variable.str.split('_', expand=True)[0]\n",
    "secondary_vs_primary_counts = secondary_vs_primary_counts[(secondary_vs_primary_counts.maf=='1%')].pivot(index=['tissue', 'modality'], columns='variable', values='value').reset_index()\n",
    "secondary_vs_primary_counts.head()"
   ]
  },
  {
   "cell_type": "code",
   "execution_count": 8,
   "metadata": {
    "execution": {
     "iopub.execute_input": "2024-12-06T18:45:48.651227Z",
     "iopub.status.busy": "2024-12-06T18:45:48.650767Z",
     "iopub.status.idle": "2024-12-06T18:45:48.745338Z",
     "shell.execute_reply": "2024-12-06T18:45:48.744490Z"
    }
   },
   "outputs": [
    {
     "data": {
      "text/html": [
       "<div>\n",
       "<style scoped>\n",
       "    .dataframe tbody tr th:only-of-type {\n",
       "        vertical-align: middle;\n",
       "    }\n",
       "\n",
       "    .dataframe tbody tr th {\n",
       "        vertical-align: top;\n",
       "    }\n",
       "\n",
       "    .dataframe thead th {\n",
       "        text-align: right;\n",
       "    }\n",
       "</style>\n",
       "<table border=\"1\" class=\"dataframe\">\n",
       "  <thead>\n",
       "    <tr style=\"text-align: right;\">\n",
       "      <th></th>\n",
       "      <th>modality</th>\n",
       "      <th>cis-eQTL</th>\n",
       "      <th>cis-sQTL</th>\n",
       "    </tr>\n",
       "    <tr>\n",
       "      <th>tissue</th>\n",
       "      <th>maf</th>\n",
       "      <th></th>\n",
       "      <th></th>\n",
       "    </tr>\n",
       "  </thead>\n",
       "  <tbody>\n",
       "    <tr>\n",
       "      <th>Lung</th>\n",
       "      <th>1%</th>\n",
       "      <td>0.211353</td>\n",
       "      <td>0.221311</td>\n",
       "    </tr>\n",
       "    <tr>\n",
       "      <th>Monocyte</th>\n",
       "      <th>1%</th>\n",
       "      <td>0.201031</td>\n",
       "      <td>0.226162</td>\n",
       "    </tr>\n",
       "    <tr>\n",
       "      <th>Nasal_epithelial</th>\n",
       "      <th>1%</th>\n",
       "      <td>0.135367</td>\n",
       "      <td>0.155126</td>\n",
       "    </tr>\n",
       "    <tr>\n",
       "      <th>PBMC</th>\n",
       "      <th>1%</th>\n",
       "      <td>0.292799</td>\n",
       "      <td>0.296674</td>\n",
       "    </tr>\n",
       "    <tr>\n",
       "      <th>T_cell</th>\n",
       "      <th>1%</th>\n",
       "      <td>0.200085</td>\n",
       "      <td>0.216314</td>\n",
       "    </tr>\n",
       "    <tr>\n",
       "      <th rowspan=\"2\" valign=\"top\">Whole_blood</th>\n",
       "      <th>0.1%</th>\n",
       "      <td>0.403214</td>\n",
       "      <td>0.381503</td>\n",
       "    </tr>\n",
       "    <tr>\n",
       "      <th>1%</th>\n",
       "      <td>0.411590</td>\n",
       "      <td>0.374420</td>\n",
       "    </tr>\n",
       "  </tbody>\n",
       "</table>\n",
       "</div>"
      ],
      "text/plain": [
       "modality               cis-eQTL  cis-sQTL\n",
       "tissue           maf                     \n",
       "Lung             1%    0.211353  0.221311\n",
       "Monocyte         1%    0.201031  0.226162\n",
       "Nasal_epithelial 1%    0.135367  0.155126\n",
       "PBMC             1%    0.292799  0.296674\n",
       "T_cell           1%    0.200085  0.216314\n",
       "Whole_blood      0.1%  0.403214  0.381503\n",
       "                 1%    0.411590  0.374420"
      ]
     },
     "execution_count": 8,
     "metadata": {},
     "output_type": "execute_result"
    }
   ],
   "source": [
    "tmp = cs_size.copy()\n",
    "tmp['single_variant'] = (tmp.variants == 1).astype(int)\n",
    "tmp.groupby(['tissue', 'maf', 'modality']).single_variant.mean().reset_index().pivot(index=['tissue', 'maf'], values='single_variant', columns='modality')"
   ]
  },
  {
   "cell_type": "code",
   "execution_count": 9,
   "metadata": {
    "execution": {
     "iopub.execute_input": "2024-12-06T18:45:48.747597Z",
     "iopub.status.busy": "2024-12-06T18:45:48.747215Z",
     "iopub.status.idle": "2024-12-06T18:45:48.880354Z",
     "shell.execute_reply": "2024-12-06T18:45:48.879607Z"
    }
   },
   "outputs": [
    {
     "name": "stdout",
     "output_type": "stream",
     "text": [
      "At a minimum minor allele frequency (MAF) threshold of 0.01, we identified 9,330 - 19,465 genes with a significant cis-eQTL (cis-eGenes) and 3,290 - 8,795 genes with a significant cis-sQTL (cis-sGenes)\n"
     ]
    }
   ],
   "source": [
    "print('At a minimum minor allele frequency (MAF) threshold of 0.01, we identified {:,} - {:,} genes with a significant cis-eQTL (cis-eGenes) and {:,} - {:,} genes with a significant cis-sQTL (cis-sGenes)'.format(\n",
    " all_esgenes[(all_esgenes.maf=='1%') & (all_esgenes.modality=='cis-eQTL')].groupby('tissue').gene_id.nunique().min(),\n",
    " all_esgenes[(all_esgenes.maf=='1%') & (all_esgenes.modality=='cis-eQTL')].groupby('tissue').gene_id.nunique().max(),\n",
    " all_esgenes[(all_esgenes.maf=='1%') & (all_esgenes.modality=='cis-sQTL')].groupby('tissue').gene_id.nunique().min(),\n",
    " all_esgenes[(all_esgenes.maf=='1%') & (all_esgenes.modality=='cis-sQTL')].groupby('tissue').gene_id.nunique().max()))"
   ]
  },
  {
   "cell_type": "code",
   "execution_count": 10,
   "metadata": {
    "execution": {
     "iopub.execute_input": "2024-12-06T18:45:48.883684Z",
     "iopub.status.busy": "2024-12-06T18:45:48.883116Z",
     "iopub.status.idle": "2024-12-06T18:45:52.835344Z",
     "shell.execute_reply": "2024-12-06T18:45:52.834757Z"
    }
   },
   "outputs": [
    {
     "name": "stdout",
     "output_type": "stream",
     "text": [
      "This identified 10,282 - 69,766 and 4,992 - 35,770 total cis-eQTL and cis-sQTL signals per tissue, respectively\n"
     ]
    }
   ],
   "source": [
    "print('This identified {:,} - {:,} and {:,} - {:,} total cis-eQTL and cis-sQTL signals per tissue, respectively'.format(\n",
    "    cis_susie[(cis_susie.maf=='1%') & (cis_susie.modality=='cis-eQTL')].groupby('tissue').unique_cs_id.nunique().min(),\n",
    "    cis_susie[(cis_susie.maf=='1%') & (cis_susie.modality=='cis-eQTL')].groupby('tissue').unique_cs_id.nunique().max(),\n",
    "    cis_susie[(cis_susie.maf=='1%') & (cis_susie.modality=='cis-sQTL')].groupby('tissue').unique_cs_id.nunique().min(),\n",
    "    cis_susie[(cis_susie.maf=='1%') & (cis_susie.modality=='cis-sQTL')].groupby('tissue').unique_cs_id.nunique().max()\n",
    "))"
   ]
  },
  {
   "cell_type": "code",
   "execution_count": 11,
   "metadata": {
    "execution": {
     "iopub.execute_input": "2024-12-06T18:45:52.838955Z",
     "iopub.status.busy": "2024-12-06T18:45:52.838459Z",
     "iopub.status.idle": "2024-12-06T18:45:52.846258Z",
     "shell.execute_reply": "2024-12-06T18:45:52.845703Z"
    }
   },
   "outputs": [
    {
     "data": {
      "text/html": [
       "<div>\n",
       "<style scoped>\n",
       "    .dataframe tbody tr th:only-of-type {\n",
       "        vertical-align: middle;\n",
       "    }\n",
       "\n",
       "    .dataframe tbody tr th {\n",
       "        vertical-align: top;\n",
       "    }\n",
       "\n",
       "    .dataframe thead th {\n",
       "        text-align: right;\n",
       "    }\n",
       "</style>\n",
       "<table border=\"1\" class=\"dataframe\">\n",
       "  <thead>\n",
       "    <tr style=\"text-align: right;\">\n",
       "      <th></th>\n",
       "      <th>tissue</th>\n",
       "      <th>maf</th>\n",
       "      <th>modality</th>\n",
       "      <th>gene_id</th>\n",
       "      <th>signals</th>\n",
       "    </tr>\n",
       "  </thead>\n",
       "  <tbody>\n",
       "    <tr>\n",
       "      <th>0</th>\n",
       "      <td>Lung</td>\n",
       "      <td>1%</td>\n",
       "      <td>cis-eQTL</td>\n",
       "      <td>ENSG00000112679.14</td>\n",
       "      <td>0</td>\n",
       "    </tr>\n",
       "    <tr>\n",
       "      <th>1</th>\n",
       "      <td>Lung</td>\n",
       "      <td>1%</td>\n",
       "      <td>cis-eQTL</td>\n",
       "      <td>ENSG00000112685.14</td>\n",
       "      <td>4</td>\n",
       "    </tr>\n",
       "    <tr>\n",
       "      <th>2</th>\n",
       "      <td>Lung</td>\n",
       "      <td>1%</td>\n",
       "      <td>cis-eQTL</td>\n",
       "      <td>ENSG00000272463.1</td>\n",
       "      <td>1</td>\n",
       "    </tr>\n",
       "    <tr>\n",
       "      <th>3</th>\n",
       "      <td>Lung</td>\n",
       "      <td>1%</td>\n",
       "      <td>cis-eQTL</td>\n",
       "      <td>ENSG00000271727.1</td>\n",
       "      <td>0</td>\n",
       "    </tr>\n",
       "    <tr>\n",
       "      <th>4</th>\n",
       "      <td>Lung</td>\n",
       "      <td>1%</td>\n",
       "      <td>cis-eQTL</td>\n",
       "      <td>ENSG00000281809.1</td>\n",
       "      <td>0</td>\n",
       "    </tr>\n",
       "  </tbody>\n",
       "</table>\n",
       "</div>"
      ],
      "text/plain": [
       "  tissue maf  modality             gene_id  signals\n",
       "0   Lung  1%  cis-eQTL  ENSG00000112679.14        0\n",
       "1   Lung  1%  cis-eQTL  ENSG00000112685.14        4\n",
       "2   Lung  1%  cis-eQTL   ENSG00000272463.1        1\n",
       "3   Lung  1%  cis-eQTL   ENSG00000271727.1        0\n",
       "4   Lung  1%  cis-eQTL   ENSG00000281809.1        0"
      ]
     },
     "execution_count": 11,
     "metadata": {},
     "output_type": "execute_result"
    }
   ],
   "source": [
    "signals_per_gene.head()"
   ]
  },
  {
   "cell_type": "code",
   "execution_count": 12,
   "metadata": {
    "execution": {
     "iopub.execute_input": "2024-12-06T18:45:52.848155Z",
     "iopub.status.busy": "2024-12-06T18:45:52.847652Z",
     "iopub.status.idle": "2024-12-06T18:45:52.908429Z",
     "shell.execute_reply": "2024-12-06T18:45:52.907762Z"
    }
   },
   "outputs": [
    {
     "name": "stdout",
     "output_type": "stream",
     "text": [
      "In whole blood, we discovered a mean of 3.5841767274595426 cis-eQTL and 1.9442865264354747 cis-sQTL credible sets per cis-e/sGene\n"
     ]
    }
   ],
   "source": [
    "print('In whole blood, we discovered a mean of {} cis-eQTL and {} cis-sQTL credible sets per cis-e/sGene'.format(\n",
    "    signals_per_gene[(signals_per_gene.tissue=='Whole_blood') & (signals_per_gene.maf=='1%') & (signals_per_gene.modality=='cis-eQTL')].signals.mean(),\n",
    "    signals_per_gene[(signals_per_gene.tissue=='Whole_blood') & (signals_per_gene.maf=='1%') & (signals_per_gene.modality=='cis-sQTL')].signals.mean()\n",
    "))"
   ]
  },
  {
   "cell_type": "code",
   "execution_count": 13,
   "metadata": {
    "execution": {
     "iopub.execute_input": "2024-12-06T18:45:52.919696Z",
     "iopub.status.busy": "2024-12-06T18:45:52.919069Z",
     "iopub.status.idle": "2024-12-06T18:45:53.195852Z",
     "shell.execute_reply": "2024-12-06T18:45:53.195175Z"
    }
   },
   "outputs": [
    {
     "name": "stdout",
     "output_type": "stream",
     "text": [
      "28715 (41.2%) of whole blood cis-eQTL and 13393 (37.4%) of whole blood cis-sQTL credible sets contained a single variant\n"
     ]
    }
   ],
   "source": [
    "print('{} ({}%) of whole blood cis-eQTL and {} ({}%) of whole blood cis-sQTL credible sets contained a single variant'.format(\n",
    "    sum(cs_size[(cs_size.tissue=='Whole_blood') & (cs_size.maf=='1%') & (cs_size.modality=='cis-eQTL')].variants==1),\n",
    "    round((cs_size[(cs_size.tissue=='Whole_blood') & (cs_size.maf=='1%') & (cs_size.modality=='cis-eQTL')].variants==1).mean()*100, 1),\n",
    "    sum(cs_size[(cs_size.tissue=='Whole_blood') & (cs_size.maf=='1%') & (cs_size.modality=='cis-sQTL')].variants==1),\n",
    "    round((cs_size[(cs_size.tissue=='Whole_blood') & (cs_size.maf=='1%') & (cs_size.modality=='cis-sQTL')].variants==1).mean()*100, 1)\n",
    "))"
   ]
  },
  {
   "cell_type": "code",
   "execution_count": 14,
   "metadata": {
    "execution": {
     "iopub.execute_input": "2024-12-06T18:45:53.198763Z",
     "iopub.status.busy": "2024-12-06T18:45:53.198421Z",
     "iopub.status.idle": "2024-12-06T18:45:53.206317Z",
     "shell.execute_reply": "2024-12-06T18:45:53.205544Z"
    }
   },
   "outputs": [
    {
     "data": {
      "text/html": [
       "<div>\n",
       "<style scoped>\n",
       "    .dataframe tbody tr th:only-of-type {\n",
       "        vertical-align: middle;\n",
       "    }\n",
       "\n",
       "    .dataframe tbody tr th {\n",
       "        vertical-align: top;\n",
       "    }\n",
       "\n",
       "    .dataframe thead th {\n",
       "        text-align: right;\n",
       "    }\n",
       "</style>\n",
       "<table border=\"1\" class=\"dataframe\">\n",
       "  <thead>\n",
       "    <tr style=\"text-align: right;\">\n",
       "      <th>variable</th>\n",
       "      <th>tissue</th>\n",
       "      <th>modality</th>\n",
       "      <th>primary</th>\n",
       "      <th>secondary</th>\n",
       "    </tr>\n",
       "  </thead>\n",
       "  <tbody>\n",
       "    <tr>\n",
       "      <th>0</th>\n",
       "      <td>Lung</td>\n",
       "      <td>cis-eQTL</td>\n",
       "      <td>15323</td>\n",
       "      <td>9815</td>\n",
       "    </tr>\n",
       "    <tr>\n",
       "      <th>1</th>\n",
       "      <td>Lung</td>\n",
       "      <td>cis-sQTL</td>\n",
       "      <td>7389</td>\n",
       "      <td>8105</td>\n",
       "    </tr>\n",
       "    <tr>\n",
       "      <th>2</th>\n",
       "      <td>Monocyte</td>\n",
       "      <td>cis-eQTL</td>\n",
       "      <td>7732</td>\n",
       "      <td>2550</td>\n",
       "    </tr>\n",
       "    <tr>\n",
       "      <th>3</th>\n",
       "      <td>Monocyte</td>\n",
       "      <td>cis-sQTL</td>\n",
       "      <td>3009</td>\n",
       "      <td>1983</td>\n",
       "    </tr>\n",
       "    <tr>\n",
       "      <th>4</th>\n",
       "      <td>Nasal_epithelial</td>\n",
       "      <td>cis-eQTL</td>\n",
       "      <td>10078</td>\n",
       "      <td>2606</td>\n",
       "    </tr>\n",
       "  </tbody>\n",
       "</table>\n",
       "</div>"
      ],
      "text/plain": [
       "variable            tissue  modality  primary  secondary\n",
       "0                     Lung  cis-eQTL    15323       9815\n",
       "1                     Lung  cis-sQTL     7389       8105\n",
       "2                 Monocyte  cis-eQTL     7732       2550\n",
       "3                 Monocyte  cis-sQTL     3009       1983\n",
       "4         Nasal_epithelial  cis-eQTL    10078       2606"
      ]
     },
     "execution_count": 14,
     "metadata": {},
     "output_type": "execute_result"
    }
   ],
   "source": [
    "secondary_vs_primary_counts.head()"
   ]
  },
  {
   "cell_type": "code",
   "execution_count": 15,
   "metadata": {
    "execution": {
     "iopub.execute_input": "2024-12-06T18:45:53.208506Z",
     "iopub.status.busy": "2024-12-06T18:45:53.208066Z",
     "iopub.status.idle": "2024-12-06T18:45:54.949760Z",
     "shell.execute_reply": "2024-12-06T18:45:54.949057Z"
    }
   },
   "outputs": [
    {
     "name": "stderr",
     "output_type": "stream",
     "text": [
      "No artists with labels found to put in legend.  Note that artists whose label start with an underscore are ignored when legend() is called with no argument.\n"
     ]
    },
    {
     "name": "stderr",
     "output_type": "stream",
     "text": [
      "/tmp/ipykernel_2634176/713565827.py:20: SettingWithCopyWarning: \n",
      "A value is trying to be set on a copy of a slice from a DataFrame.\n",
      "Try using .loc[row_indexer,col_indexer] = value instead\n",
      "\n",
      "See the caveats in the documentation: https://pandas.pydata.org/pandas-docs/stable/user_guide/indexing.html#returning-a-view-versus-a-copy\n",
      "  df['signals_bin'] = tm.bin_integers(df.signals.to_list(), bin_names)\n",
      "/tmp/ipykernel_2634176/2709527320.py:30: MatplotlibDeprecationWarning: The get_cmap function was deprecated in Matplotlib 3.7 and will be removed two minor releases later. Use ``matplotlib.colormaps[name]`` or ``matplotlib.colormaps.get_cmap(obj)`` instead.\n",
      "  cmap = mpl.cm.get_cmap(cmap_name)\n",
      "/tmp/ipykernel_2634176/713565827.py:30: FutureWarning: The default of observed=False is deprecated and will be changed to True in a future version of pandas. Pass observed=False to retain current behavior or observed=True to adopt the future default and silence this warning.\n",
      "  df.groupby(['tissue', 'signals_bin']).size().reset_index().pivot(index='tissue', columns='signals_bin', values=0).loc[tissue_order,:].plot(kind='bar', stacked=True, ax=ax, align=align, width=width, cmap=cmap, hatch=hatch, edgecolor=edgecolor, alpha=alpha, legend=False)\n",
      "/tmp/ipykernel_2634176/713565827.py:20: SettingWithCopyWarning: \n",
      "A value is trying to be set on a copy of a slice from a DataFrame.\n",
      "Try using .loc[row_indexer,col_indexer] = value instead\n",
      "\n",
      "See the caveats in the documentation: https://pandas.pydata.org/pandas-docs/stable/user_guide/indexing.html#returning-a-view-versus-a-copy\n",
      "  df['signals_bin'] = tm.bin_integers(df.signals.to_list(), bin_names)\n",
      "/tmp/ipykernel_2634176/2709527320.py:30: MatplotlibDeprecationWarning: The get_cmap function was deprecated in Matplotlib 3.7 and will be removed two minor releases later. Use ``matplotlib.colormaps[name]`` or ``matplotlib.colormaps.get_cmap(obj)`` instead.\n",
      "  cmap = mpl.cm.get_cmap(cmap_name)\n",
      "/tmp/ipykernel_2634176/713565827.py:30: FutureWarning: The default of observed=False is deprecated and will be changed to True in a future version of pandas. Pass observed=False to retain current behavior or observed=True to adopt the future default and silence this warning.\n",
      "  df.groupby(['tissue', 'signals_bin']).size().reset_index().pivot(index='tissue', columns='signals_bin', values=0).loc[tissue_order,:].plot(kind='bar', stacked=True, ax=ax, align=align, width=width, cmap=cmap, hatch=hatch, edgecolor=edgecolor, alpha=alpha, legend=False)\n",
      "/tmp/ipykernel_2634176/2709527320.py:30: MatplotlibDeprecationWarning: The get_cmap function was deprecated in Matplotlib 3.7 and will be removed two minor releases later. Use ``matplotlib.colormaps[name]`` or ``matplotlib.colormaps.get_cmap(obj)`` instead.\n",
      "  cmap = mpl.cm.get_cmap(cmap_name)\n"
     ]
    },
    {
     "name": "stderr",
     "output_type": "stream",
     "text": [
      "/tmp/ipykernel_2634176/713565827.py:56: FutureWarning: The default of observed=False is deprecated and will be changed to True in a future version of pandas. Pass observed=False to retain current behavior or observed=True to adopt the future default and silence this warning.\n",
      "  df.groupby(['tissue', 'size_bin']).size().reset_index().pivot(index='tissue', columns='size_bin', values=0).loc[tissue_order,:].plot(legend=False, kind='bar', stacked=True, ax=ax, align=align, width=width, cmap=cmap, hatch=hatch, edgecolor=edgecolor, alpha=alpha, label=modality)\n"
     ]
    },
    {
     "name": "stderr",
     "output_type": "stream",
     "text": [
      "/tmp/ipykernel_2634176/2709527320.py:30: MatplotlibDeprecationWarning: The get_cmap function was deprecated in Matplotlib 3.7 and will be removed two minor releases later. Use ``matplotlib.colormaps[name]`` or ``matplotlib.colormaps.get_cmap(obj)`` instead.\n",
      "  cmap = mpl.cm.get_cmap(cmap_name)\n",
      "/tmp/ipykernel_2634176/713565827.py:56: FutureWarning: The default of observed=False is deprecated and will be changed to True in a future version of pandas. Pass observed=False to retain current behavior or observed=True to adopt the future default and silence this warning.\n",
      "  df.groupby(['tissue', 'size_bin']).size().reset_index().pivot(index='tissue', columns='size_bin', values=0).loc[tissue_order,:].plot(legend=False, kind='bar', stacked=True, ax=ax, align=align, width=width, cmap=cmap, hatch=hatch, edgecolor=edgecolor, alpha=alpha, label=modality)\n",
      "/tmp/ipykernel_2634176/2709527320.py:30: MatplotlibDeprecationWarning: The get_cmap function was deprecated in Matplotlib 3.7 and will be removed two minor releases later. Use ``matplotlib.colormaps[name]`` or ``matplotlib.colormaps.get_cmap(obj)`` instead.\n",
      "  cmap = mpl.cm.get_cmap(cmap_name)\n",
      "/tmp/ipykernel_2634176/2709527320.py:30: MatplotlibDeprecationWarning: The get_cmap function was deprecated in Matplotlib 3.7 and will be removed two minor releases later. Use ``matplotlib.colormaps[name]`` or ``matplotlib.colormaps.get_cmap(obj)`` instead.\n",
      "  cmap = mpl.cm.get_cmap(cmap_name)\n",
      "/tmp/ipykernel_2634176/2709527320.py:30: MatplotlibDeprecationWarning: The get_cmap function was deprecated in Matplotlib 3.7 and will be removed two minor releases later. Use ``matplotlib.colormaps[name]`` or ``matplotlib.colormaps.get_cmap(obj)`` instead.\n",
      "  cmap = mpl.cm.get_cmap(cmap_name)\n"
     ]
    },
    {
     "data": {
      "image/png": "[encoded data removed]",
      "text/plain": [
       "<Figure size 600x1200 with 4 Axes>"
      ]
     },
     "metadata": {},
     "output_type": "display_data"
    }
   ],
   "source": [
    "fig, axs = plt.subplots(nrows=4, figsize=(6, 12), gridspec_kw={'height_ratios': [1, 3, 3, 3]})\n",
    "\n",
    "\n",
    "ax = axs[0]\n",
    "sample_size_df = pd.DataFrame([[k, v] for k, v in sample_size_dict.items()], columns=['tissue', 'n']).sort_values('n')\n",
    "sns.barplot(x='tissue', y='n', data=sample_size_df, color='black', dodge=False, ax=ax)\n",
    "[ax.text(x=i, y=n, s='{:,}'.format(n), ha='center', va='bottom' if n != sample_size_df.n.max() else 'top', color='black' if n != sample_size_df.n.max() else 'white') for i, n in enumerate(sample_size_df.n)]\n",
    "ax.legend().remove()\n",
    "ax.set_ylabel('Sample size')\n",
    "ax.set_xlabel('')\n",
    "ax.xaxis.tick_top()\n",
    "ax.yaxis.set_major_formatter(tm.bmk_formatter)\n",
    "tm.rotate_xticklabels(ax, rot=45, ha='center')\n",
    "\n",
    "ax = axs[1]\n",
    "for i, modality in enumerate(['cis-eQTL', 'cis-sQTL']):\n",
    "    df = signals_per_gene[(signals_per_gene.modality==modality) & (signals_per_gene.maf=='1%')]\n",
    "    bin_ranges = [(0, 0), (1, 1), (2, 2), (3, 3), (4, 4), (5, 9), (10, 99)]\n",
    "    bin_names = ['0', '1', '2', '3', '4', '5-9', '10+']\n",
    "    df['signals_bin'] = tm.bin_integers(df.signals.to_list(), bin_names)\n",
    "\n",
    "    align = 'edge'\n",
    "    width = -0.3 if modality == 'cis-eQTL' else 0.3\n",
    "    edgecolor = None\n",
    "    alpha = 1 if modality == 'cis-sQTL' else 1\n",
    "    hatch = None\n",
    "    cmap = 'Reds_r' if modality == 'cis-sQTL' else 'Blues_r'\n",
    "    cmap = hack_cmap(cmap, len(bin_names))\n",
    "\n",
    "    df.groupby(['tissue', 'signals_bin']).size().reset_index().pivot(index='tissue', columns='signals_bin', values=0).loc[tissue_order,:].plot(kind='bar', stacked=True, ax=ax, align=align, width=width, cmap=cmap, hatch=hatch, edgecolor=edgecolor, alpha=alpha, legend=False)\n",
    "ax.set_ylabel('e/sGenes')\n",
    "ax.set_xticks([])\n",
    "ax.set_xlabel('')\n",
    "ax.yaxis.set_major_formatter(tm.bmk_formatter)\n",
    "add_legend_from_colors(df.signals_bin.cat.categories.to_list(), hack_cmap('Blues_r', len(df.signals_bin.cat.categories.to_list())), ax, reverse=True)\n",
    "ax.get_legend().set_title('Credible sets\\nper gene\\n(cis-eQTL)')\n",
    "ax.get_legend().set_bbox_to_anchor((1, 1))\n",
    "ax.add_artist(ax.get_legend())\n",
    "\n",
    "add_legend_from_colors(df.signals_bin.cat.categories.to_list(), hack_cmap('Reds_r', len(df.signals_bin.cat.categories.to_list())), ax, reverse=True)\n",
    "ax.get_legend().set_title('Credible sets\\nper gene\\n(cis-sQTL)')\n",
    "ax.get_legend().set_bbox_to_anchor((1.50, 1))\n",
    "tm.rotate_xticklabels(ax)\n",
    "\n",
    "ax = axs[2]\n",
    "for i, modality in enumerate(['cis-eQTL', 'cis-sQTL']):\n",
    "    df = cs_size[(cs_size.modality==modality) & (cs_size.maf=='1%')]\n",
    "    align = 'edge'\n",
    "    width = -0.3 if modality == 'cis-eQTL' else 0.3\n",
    "    edgecolor = None\n",
    "    alpha = 1 if modality == 'cis-sQTL' else 1\n",
    "    hatch = None\n",
    "    cmap = 'Reds_r' if modality == 'cis-sQTL' else 'Blues_r'\n",
    "    cmap = hack_cmap(cmap, len(df.size_bin.cat.categories.to_list()))\n",
    "\n",
    "    df.groupby(['tissue', 'size_bin']).size().reset_index().pivot(index='tissue', columns='size_bin', values=0).loc[tissue_order,:].plot(legend=False, kind='bar', stacked=True, ax=ax, align=align, width=width, cmap=cmap, hatch=hatch, edgecolor=edgecolor, alpha=alpha, label=modality)\n",
    "ax.set_xticks([])\n",
    "ax.set_xlabel('')\n",
    "ax.set_ylabel('Credible sets')\n",
    "ax.yaxis.set_major_formatter(tm.bmk_formatter)\n",
    "\n",
    "add_legend_from_colors(df.size_bin.cat.categories.to_list(), hack_cmap('Blues_r', len(df.size_bin.cat.categories.to_list())), ax, reverse=True)\n",
    "ax.get_legend().set_title('CS size\\n(cis-eQTL)')\n",
    "ax.get_legend().set_bbox_to_anchor((1, 1))\n",
    "ax.add_artist(ax.get_legend())\n",
    "\n",
    "add_legend_from_colors(df.size_bin.cat.categories.to_list(), hack_cmap('Reds_r', len(df.size_bin.cat.categories.to_list())), ax, reverse=True)\n",
    "ax.get_legend().set_title('CS size\\n(cis-sQTL)')\n",
    "ax.get_legend().set_bbox_to_anchor((1.45, 1))\n",
    "tm.rotate_xticklabels(ax)\n",
    "\n",
    "\n",
    "\n",
    "ax = axs[3]\n",
    "for modality in ['cis-eQTL', 'cis-sQTL']:\n",
    "    align = 'edge'\n",
    "    width = -0.3 if modality == 'cis-eQTL' else 0.3\n",
    "    cmap = 'Reds_r' if modality == 'cis-sQTL' else 'Blues_r'\n",
    "    cmap = hack_cmap(cmap, 2)\n",
    "    secondary_vs_primary_counts[secondary_vs_primary_counts.modality==modality].set_index('tissue').loc[tissue_order].plot(kind='bar', stacked=True, ax=ax, width=width, align=align, cmap=cmap, legend=False)\n",
    "ax.set_xticks([])\n",
    "ax.set_xlabel('')\n",
    "ax.set_ylabel('Credible sets')\n",
    "ax.yaxis.set_major_formatter(tm.bmk_formatter)\n",
    "add_legend_from_colors(['primary', 'secondary'], hack_cmap('Blues_r', 2), ax, reverse=True)\n",
    "ax.get_legend().set_title('cis-eQTL')\n",
    "ax.get_legend().set_bbox_to_anchor((1, 1))\n",
    "ax.add_artist(ax.get_legend())\n",
    "\n",
    "add_legend_from_colors(['primary', 'secondary'], hack_cmap('Reds_r', 2), ax, reverse=True)\n",
    "ax.get_legend().set_title('cis-sQTL')\n",
    "ax.get_legend().set_bbox_to_anchor((1, 0.5))\n",
    "tm.rotate_xticklabels(ax)\n",
    "\n",
    "\n",
    "fig.savefig(f'figures/{PREFIX}png', dpi=300, facecolor='white', bbox_inches='tight')"
   ]
  },
  {
   "cell_type": "code",
   "execution_count": null,
   "metadata": {},
   "outputs": [],
   "source": []
  }
 ],
 "metadata": {
  "kernelspec": {
   "display_name": "2020-09",
   "language": "python",
   "name": "python3"
  },
  "language_info": {
   "codemirror_mode": {
    "name": "ipython",
    "version": 3
   },
   "file_extension": ".py",
   "mimetype": "text/x-python",
   "name": "python",
   "nbconvert_exporter": "python",
   "pygments_lexer": "ipython3",
   "version": "3.12.7"
  }
 },
 "nbformat": 4,
 "nbformat_minor": 2
}
