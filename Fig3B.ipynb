{
 "cells": [
  {
   "cell_type": "code",
   "execution_count": 1,
   "metadata": {
    "execution": {
     "iopub.execute_input": "2024-11-27T16:35:18.862170Z",
     "iopub.status.busy": "2024-11-27T16:35:18.861645Z",
     "iopub.status.idle": "2024-11-27T16:35:20.786309Z",
     "shell.execute_reply": "2024-11-27T16:35:20.785041Z"
    }
   },
   "outputs": [],
   "source": [
    "import pandas as pd\n",
    "from matplotlib import pyplot as plt\n",
    "import seaborn as sns\n",
    "import numpy as np\n",
    "\n",
    "PREFIX = 'Fig3B.'"
   ]
  },
  {
   "cell_type": "code",
   "execution_count": 2,
   "metadata": {
    "execution": {
     "iopub.execute_input": "2024-11-27T16:35:20.790090Z",
     "iopub.status.busy": "2024-11-27T16:35:20.789781Z",
     "iopub.status.idle": "2024-11-27T16:35:21.568661Z",
     "shell.execute_reply": "2024-11-27T16:35:21.568177Z"
    }
   },
   "outputs": [],
   "source": [
    "# get MAF\n",
    "susie = pd.read_csv('../../manuscript-intermediate-processing/data/scan-results/joint/cis-eqtl/susie/maf0001/Whole_blood.100.cs.txt', sep='\\t')\n",
    "maf = susie[['variant_id', 'af']].drop_duplicates()\n",
    "maf['maf'] = np.minimum(maf['af'], 1 - maf['af'])\n",
    "maf = dict(zip(maf.variant_id, maf.maf))"
   ]
  },
  {
   "cell_type": "code",
   "execution_count": 3,
   "metadata": {
    "execution": {
     "iopub.execute_input": "2024-11-27T16:35:21.570599Z",
     "iopub.status.busy": "2024-11-27T16:35:21.570364Z",
     "iopub.status.idle": "2024-11-27T16:35:21.816105Z",
     "shell.execute_reply": "2024-11-27T16:35:21.815390Z"
    }
   },
   "outputs": [],
   "source": [
    "# load effect sizes, restricting to MAF >= 5% variants\n",
    "cis_afc = pd.read_csv('../../manuscript-intermediate-processing/work/allelic-fold-change/cis-eqtl/results/afc/Whole_blood.maf0001.txt', sep='\\t').rename(columns={'gene_id': 'phenotype_id'})\n",
    "trans_afc = pd.read_csv('../../manuscript-intermediate-processing/work/allelic-fold-change/trans-eqtl/results/afc/Whole_blood.gene-variant-pairs.txt', sep='\\t').rename(columns={'gene_id': 'phenotype_id'})\n",
    "cis_afc['maf'] = cis_afc.variant_id.map(maf)\n",
    "cis_afc = cis_afc[cis_afc.maf>=0.05]"
   ]
  },
  {
   "cell_type": "code",
   "execution_count": 4,
   "metadata": {
    "execution": {
     "iopub.execute_input": "2024-11-27T16:35:21.819076Z",
     "iopub.status.busy": "2024-11-27T16:35:21.818898Z",
     "iopub.status.idle": "2024-11-27T16:35:21.838028Z",
     "shell.execute_reply": "2024-11-27T16:35:21.837458Z"
    }
   },
   "outputs": [
    {
     "data": {
      "text/html": [
       "<div>\n",
       "<style scoped>\n",
       "    .dataframe tbody tr th:only-of-type {\n",
       "        vertical-align: middle;\n",
       "    }\n",
       "\n",
       "    .dataframe tbody tr th {\n",
       "        vertical-align: top;\n",
       "    }\n",
       "\n",
       "    .dataframe thead th {\n",
       "        text-align: right;\n",
       "    }\n",
       "</style>\n",
       "<table border=\"1\" class=\"dataframe\">\n",
       "  <thead>\n",
       "    <tr style=\"text-align: right;\">\n",
       "      <th></th>\n",
       "      <th>phenotype_id</th>\n",
       "      <th>variant_id</th>\n",
       "      <th>afc</th>\n",
       "      <th>afc_se</th>\n",
       "      <th>maf</th>\n",
       "      <th>modality</th>\n",
       "      <th>abs_afc</th>\n",
       "    </tr>\n",
       "  </thead>\n",
       "  <tbody>\n",
       "    <tr>\n",
       "      <th>0</th>\n",
       "      <td>ENSG00000196072.12</td>\n",
       "      <td>chr10_100278884_G_A</td>\n",
       "      <td>0.139474</td>\n",
       "      <td>0.005259</td>\n",
       "      <td>0.363108</td>\n",
       "      <td>cis-eQTL</td>\n",
       "      <td>0.139474</td>\n",
       "    </tr>\n",
       "    <tr>\n",
       "      <th>1</th>\n",
       "      <td>ENSG00000196072.12</td>\n",
       "      <td>chr10_100290485_C_A</td>\n",
       "      <td>0.094499</td>\n",
       "      <td>0.009773</td>\n",
       "      <td>0.068020</td>\n",
       "      <td>cis-eQTL</td>\n",
       "      <td>0.094499</td>\n",
       "    </tr>\n",
       "    <tr>\n",
       "      <th>5</th>\n",
       "      <td>ENSG00000107937.19</td>\n",
       "      <td>chr10_1009926_A_T</td>\n",
       "      <td>-0.085036</td>\n",
       "      <td>0.005705</td>\n",
       "      <td>0.125426</td>\n",
       "      <td>cis-eQTL</td>\n",
       "      <td>0.085036</td>\n",
       "    </tr>\n",
       "    <tr>\n",
       "      <th>8</th>\n",
       "      <td>ENSG00000107937.19</td>\n",
       "      <td>chr10_1019517_T_A</td>\n",
       "      <td>0.042941</td>\n",
       "      <td>0.008583</td>\n",
       "      <td>0.050356</td>\n",
       "      <td>cis-eQTL</td>\n",
       "      <td>0.042941</td>\n",
       "    </tr>\n",
       "    <tr>\n",
       "      <th>9</th>\n",
       "      <td>ENSG00000107937.19</td>\n",
       "      <td>chr10_988472_C_T</td>\n",
       "      <td>-0.038282</td>\n",
       "      <td>0.005704</td>\n",
       "      <td>0.129610</td>\n",
       "      <td>cis-eQTL</td>\n",
       "      <td>0.038282</td>\n",
       "    </tr>\n",
       "  </tbody>\n",
       "</table>\n",
       "</div>"
      ],
      "text/plain": [
       "         phenotype_id           variant_id       afc    afc_se       maf  \\\n",
       "0  ENSG00000196072.12  chr10_100278884_G_A  0.139474  0.005259  0.363108   \n",
       "1  ENSG00000196072.12  chr10_100290485_C_A  0.094499  0.009773  0.068020   \n",
       "5  ENSG00000107937.19    chr10_1009926_A_T -0.085036  0.005705  0.125426   \n",
       "8  ENSG00000107937.19    chr10_1019517_T_A  0.042941  0.008583  0.050356   \n",
       "9  ENSG00000107937.19     chr10_988472_C_T -0.038282  0.005704  0.129610   \n",
       "\n",
       "   modality   abs_afc  \n",
       "0  cis-eQTL  0.139474  \n",
       "1  cis-eQTL  0.094499  \n",
       "5  cis-eQTL  0.085036  \n",
       "8  cis-eQTL  0.042941  \n",
       "9  cis-eQTL  0.038282  "
      ]
     },
     "execution_count": 4,
     "metadata": {},
     "output_type": "execute_result"
    }
   ],
   "source": [
    "cis_and_trans_afc = pd.concat([cis_afc.assign(modality='cis-eQTL'), trans_afc.assign(modality='trans-eQTL')])\n",
    "cis_and_trans_afc['abs_afc'] = cis_and_trans_afc.afc.abs()\n",
    "cis_and_trans_afc.head()"
   ]
  },
  {
   "cell_type": "code",
   "execution_count": 5,
   "metadata": {
    "execution": {
     "iopub.execute_input": "2024-11-27T16:35:21.874162Z",
     "iopub.status.busy": "2024-11-27T16:35:21.873864Z",
     "iopub.status.idle": "2024-11-27T16:35:22.143757Z",
     "shell.execute_reply": "2024-11-27T16:35:22.143231Z"
    }
   },
   "outputs": [
    {
     "data": {
      "image/png": "[encoded data removed]",
      "text/plain": [
       "<Figure size 200x250 with 1 Axes>"
      ]
     },
     "metadata": {},
     "output_type": "display_data"
    }
   ],
   "source": [
    "fig, ax = plt.subplots(figsize=(2, 2.5))\n",
    "\n",
    "cis_and_trans_afc['label'] = cis_and_trans_afc.modality.str.replace('-eQTL', '')\n",
    "\n",
    "sns.boxplot(x='label', y='abs_afc', data=cis_and_trans_afc, ax=ax, showfliers=False, color='white')\n",
    "ax.set_xlabel('eQTL signals w/\\nMAF >= 0.05')\n",
    "ax.set_ylabel('abs(allelic fold change)')\n",
    "\n",
    "fig.tight_layout()\n",
    "fig.savefig(f'figures/{PREFIX}png', dpi=300, bbox_inches='tight', facecolor='white')"
   ]
  },
  {
   "cell_type": "code",
   "execution_count": null,
   "metadata": {},
   "outputs": [],
   "source": []
  }
 ],
 "metadata": {
  "kernelspec": {
   "display_name": "2020-09",
   "language": "python",
   "name": "python3"
  },
  "language_info": {
   "codemirror_mode": {
    "name": "ipython",
    "version": 3
   },
   "file_extension": ".py",
   "mimetype": "text/x-python",
   "name": "python",
   "nbconvert_exporter": "python",
   "pygments_lexer": "ipython3",
   "version": "3.12.7"
  }
 },
 "nbformat": 4,
 "nbformat_minor": 2
}
