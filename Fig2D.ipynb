{
 "cells": [
  {
   "cell_type": "code",
   "execution_count": 1,
   "metadata": {
    "execution": {
     "iopub.execute_input": "2024-12-02T21:47:59.777463Z",
     "iopub.status.busy": "2024-12-02T21:47:59.776817Z",
     "iopub.status.idle": "2024-12-02T21:48:01.927956Z",
     "shell.execute_reply": "2024-12-02T21:48:01.927387Z"
    }
   },
   "outputs": [
    {
     "data": {
      "text/html": [
       "<div>\n",
       "<style scoped>\n",
       "    .dataframe tbody tr th:only-of-type {\n",
       "        vertical-align: middle;\n",
       "    }\n",
       "\n",
       "    .dataframe tbody tr th {\n",
       "        vertical-align: top;\n",
       "    }\n",
       "\n",
       "    .dataframe thead th {\n",
       "        text-align: right;\n",
       "    }\n",
       "</style>\n",
       "<table border=\"1\" class=\"dataframe\">\n",
       "  <thead>\n",
       "    <tr style=\"text-align: right;\">\n",
       "      <th></th>\n",
       "      <th>phenotype_id</th>\n",
       "      <th>variant_id</th>\n",
       "      <th>afc</th>\n",
       "      <th>afc_se</th>\n",
       "    </tr>\n",
       "  </thead>\n",
       "  <tbody>\n",
       "    <tr>\n",
       "      <th>0</th>\n",
       "      <td>ENSG00000196072.12</td>\n",
       "      <td>chr10_100278884_G_A</td>\n",
       "      <td>0.139474</td>\n",
       "      <td>0.005259</td>\n",
       "    </tr>\n",
       "    <tr>\n",
       "      <th>1</th>\n",
       "      <td>ENSG00000196072.12</td>\n",
       "      <td>chr10_100290485_C_A</td>\n",
       "      <td>0.094499</td>\n",
       "      <td>0.009773</td>\n",
       "    </tr>\n",
       "    <tr>\n",
       "      <th>2</th>\n",
       "      <td>ENSG00000196072.12</td>\n",
       "      <td>chr10_100279506_G_A</td>\n",
       "      <td>-0.133986</td>\n",
       "      <td>0.017570</td>\n",
       "    </tr>\n",
       "    <tr>\n",
       "      <th>3</th>\n",
       "      <td>ENSG00000196072.12</td>\n",
       "      <td>chr10_100163605_C_T</td>\n",
       "      <td>0.266483</td>\n",
       "      <td>0.044252</td>\n",
       "    </tr>\n",
       "    <tr>\n",
       "      <th>4</th>\n",
       "      <td>ENSG00000196072.12</td>\n",
       "      <td>chr10_100272438_C_T</td>\n",
       "      <td>-0.190051</td>\n",
       "      <td>0.011657</td>\n",
       "    </tr>\n",
       "  </tbody>\n",
       "</table>\n",
       "</div>"
      ],
      "text/plain": [
       "         phenotype_id           variant_id       afc    afc_se\n",
       "0  ENSG00000196072.12  chr10_100278884_G_A  0.139474  0.005259\n",
       "1  ENSG00000196072.12  chr10_100290485_C_A  0.094499  0.009773\n",
       "2  ENSG00000196072.12  chr10_100279506_G_A -0.133986  0.017570\n",
       "3  ENSG00000196072.12  chr10_100163605_C_T  0.266483  0.044252\n",
       "4  ENSG00000196072.12  chr10_100272438_C_T -0.190051  0.011657"
      ]
     },
     "execution_count": 1,
     "metadata": {},
     "output_type": "execute_result"
    }
   ],
   "source": [
    "import pandas as pd\n",
    "from matplotlib import pyplot as plt\n",
    "import seaborn as sns\n",
    "import numpy as np\n",
    "\n",
    "def rotate_xticklabels(ax, rot=45, ha='right'):\n",
    "    for t in ax.get_xticklabels():\n",
    "        t.set(rotation=rot, ha=ha)\n",
    "    return True\n",
    "\n",
    "\n",
    "def bin_maf(x):\n",
    "    if x < 0.01:\n",
    "        return '0.001 <= MAF < 0.01'\n",
    "    elif x >= 0.01 and x < 0.1:\n",
    "        return '0.01 <= MAF < 0.1'\n",
    "    elif x >= 0.1:\n",
    "        return 'MAF >= 0.1'\n",
    "    else:\n",
    "        raise ValueError(f'Weird MAF value? {x}')\n",
    "\n",
    "\n",
    "PREFIX = 'Fig2D.'\n",
    "\n",
    "afc = pd.read_csv('../../manuscript-intermediate-processing/work/allelic-fold-change/cis-eqtl/results/afc/Whole_blood.maf0001.txt', sep='\\t').rename(columns={'gene_id': 'phenotype_id'})\n",
    "afc.head()"
   ]
  },
  {
   "cell_type": "code",
   "execution_count": 2,
   "metadata": {
    "execution": {
     "iopub.execute_input": "2024-12-02T21:48:01.966195Z",
     "iopub.status.busy": "2024-12-02T21:48:01.965717Z",
     "iopub.status.idle": "2024-12-02T21:48:02.714895Z",
     "shell.execute_reply": "2024-12-02T21:48:02.714177Z"
    }
   },
   "outputs": [],
   "source": [
    "# get MAF (joint MAF)\n",
    "susie = pd.read_csv('../../manuscript-intermediate-processing/data/scan-results/joint/cis-eqtl/susie/maf0001/Whole_blood.100.cs.txt', sep='\\t')\n",
    "maf = susie[['variant_id', 'af']].drop_duplicates()\n",
    "maf['maf'] = np.minimum(maf['af'], 1 - maf['af'])\n",
    "maf = dict(zip(maf.variant_id, maf.maf))"
   ]
  },
  {
   "cell_type": "code",
   "execution_count": 3,
   "metadata": {
    "execution": {
     "iopub.execute_input": "2024-12-02T21:48:02.717085Z",
     "iopub.status.busy": "2024-12-02T21:48:02.716784Z",
     "iopub.status.idle": "2024-12-02T21:48:02.924700Z",
     "shell.execute_reply": "2024-12-02T21:48:02.924126Z"
    }
   },
   "outputs": [
    {
     "data": {
      "text/html": [
       "<div>\n",
       "<style scoped>\n",
       "    .dataframe tbody tr th:only-of-type {\n",
       "        vertical-align: middle;\n",
       "    }\n",
       "\n",
       "    .dataframe tbody tr th {\n",
       "        vertical-align: top;\n",
       "    }\n",
       "\n",
       "    .dataframe thead th {\n",
       "        text-align: right;\n",
       "    }\n",
       "</style>\n",
       "<table border=\"1\" class=\"dataframe\">\n",
       "  <thead>\n",
       "    <tr style=\"text-align: right;\">\n",
       "      <th></th>\n",
       "      <th>phenotype_id</th>\n",
       "      <th>variant_id</th>\n",
       "      <th>afc</th>\n",
       "      <th>afc_se</th>\n",
       "      <th>maf</th>\n",
       "      <th>log10(maf)</th>\n",
       "      <th>rounded_log10(maf)</th>\n",
       "      <th>binned_log10(maf)</th>\n",
       "      <th>abs_afc</th>\n",
       "    </tr>\n",
       "  </thead>\n",
       "  <tbody>\n",
       "    <tr>\n",
       "      <th>0</th>\n",
       "      <td>ENSG00000196072.12</td>\n",
       "      <td>chr10_100278884_G_A</td>\n",
       "      <td>0.139474</td>\n",
       "      <td>0.005259</td>\n",
       "      <td>0.363108</td>\n",
       "      <td>-0.439964</td>\n",
       "      <td>-0.4</td>\n",
       "      <td>MAF &gt;= 0.1</td>\n",
       "      <td>0.139474</td>\n",
       "    </tr>\n",
       "    <tr>\n",
       "      <th>1</th>\n",
       "      <td>ENSG00000196072.12</td>\n",
       "      <td>chr10_100290485_C_A</td>\n",
       "      <td>0.094499</td>\n",
       "      <td>0.009773</td>\n",
       "      <td>0.068020</td>\n",
       "      <td>-1.167364</td>\n",
       "      <td>-1.2</td>\n",
       "      <td>0.01 &lt;= MAF &lt; 0.1</td>\n",
       "      <td>0.094499</td>\n",
       "    </tr>\n",
       "    <tr>\n",
       "      <th>2</th>\n",
       "      <td>ENSG00000196072.12</td>\n",
       "      <td>chr10_100279506_G_A</td>\n",
       "      <td>-0.133986</td>\n",
       "      <td>0.017570</td>\n",
       "      <td>0.020762</td>\n",
       "      <td>-1.682724</td>\n",
       "      <td>-1.7</td>\n",
       "      <td>0.01 &lt;= MAF &lt; 0.1</td>\n",
       "      <td>0.133986</td>\n",
       "    </tr>\n",
       "    <tr>\n",
       "      <th>3</th>\n",
       "      <td>ENSG00000196072.12</td>\n",
       "      <td>chr10_100163605_C_T</td>\n",
       "      <td>0.266483</td>\n",
       "      <td>0.044252</td>\n",
       "      <td>0.003099</td>\n",
       "      <td>-2.508799</td>\n",
       "      <td>-2.5</td>\n",
       "      <td>0.001 &lt;= MAF &lt; 0.01</td>\n",
       "      <td>0.266483</td>\n",
       "    </tr>\n",
       "    <tr>\n",
       "      <th>4</th>\n",
       "      <td>ENSG00000196072.12</td>\n",
       "      <td>chr10_100272438_C_T</td>\n",
       "      <td>-0.190051</td>\n",
       "      <td>0.011657</td>\n",
       "      <td>0.043616</td>\n",
       "      <td>-1.360351</td>\n",
       "      <td>-1.4</td>\n",
       "      <td>0.01 &lt;= MAF &lt; 0.1</td>\n",
       "      <td>0.190051</td>\n",
       "    </tr>\n",
       "  </tbody>\n",
       "</table>\n",
       "</div>"
      ],
      "text/plain": [
       "         phenotype_id           variant_id       afc    afc_se       maf  \\\n",
       "0  ENSG00000196072.12  chr10_100278884_G_A  0.139474  0.005259  0.363108   \n",
       "1  ENSG00000196072.12  chr10_100290485_C_A  0.094499  0.009773  0.068020   \n",
       "2  ENSG00000196072.12  chr10_100279506_G_A -0.133986  0.017570  0.020762   \n",
       "3  ENSG00000196072.12  chr10_100163605_C_T  0.266483  0.044252  0.003099   \n",
       "4  ENSG00000196072.12  chr10_100272438_C_T -0.190051  0.011657  0.043616   \n",
       "\n",
       "   log10(maf)  rounded_log10(maf)    binned_log10(maf)   abs_afc  \n",
       "0   -0.439964                -0.4           MAF >= 0.1  0.139474  \n",
       "1   -1.167364                -1.2    0.01 <= MAF < 0.1  0.094499  \n",
       "2   -1.682724                -1.7    0.01 <= MAF < 0.1  0.133986  \n",
       "3   -2.508799                -2.5  0.001 <= MAF < 0.01  0.266483  \n",
       "4   -1.360351                -1.4    0.01 <= MAF < 0.1  0.190051  "
      ]
     },
     "execution_count": 3,
     "metadata": {},
     "output_type": "execute_result"
    }
   ],
   "source": [
    "afc['maf'] = afc.variant_id.map(maf)\n",
    "afc['log10(maf)'] = np.log10(afc.maf)\n",
    "afc['rounded_log10(maf)'] = afc['log10(maf)'].round(1)\n",
    "afc['binned_log10(maf)'] = afc.maf.map(bin_maf)\n",
    "afc['binned_log10(maf)'] = pd.Categorical(afc['binned_log10(maf)'], categories=afc.sort_values('maf')['binned_log10(maf)'].unique(), ordered=True)\n",
    "afc['abs_afc'] = afc.afc.abs()\n",
    "afc.head()"
   ]
  },
  {
   "cell_type": "code",
   "execution_count": 4,
   "metadata": {
    "execution": {
     "iopub.execute_input": "2024-12-02T21:48:02.926678Z",
     "iopub.status.busy": "2024-12-02T21:48:02.926339Z",
     "iopub.status.idle": "2024-12-02T21:48:03.215649Z",
     "shell.execute_reply": "2024-12-02T21:48:03.214915Z"
    }
   },
   "outputs": [
    {
     "data": {
      "image/png": "[encoded data removed]",
      "text/plain": [
       "<Figure size 250x250 with 1 Axes>"
      ]
     },
     "metadata": {},
     "output_type": "display_data"
    }
   ],
   "source": [
    "fig, ax = plt.subplots(figsize=(2.5, 2.5))\n",
    "\n",
    "sns.boxplot(x='binned_log10(maf)', y='abs_afc', ax=ax, data=afc, showfliers=False, color='white')\n",
    "ax.set_xlabel('Variant MAF')\n",
    "ax.set_ylabel('abs(Allelic\\nfold change)')\n",
    "rotate_xticklabels(ax)\n",
    "\n",
    "\n",
    "fig.tight_layout()\n",
    "fig.savefig(f'figures/{PREFIX}png', dpi=300, bbox_inches='tight', facecolor='white')"
   ]
  }
 ],
 "metadata": {
  "kernelspec": {
   "display_name": "2020-09",
   "language": "python",
   "name": "python3"
  },
  "language_info": {
   "codemirror_mode": {
    "name": "ipython",
    "version": 3
   },
   "file_extension": ".py",
   "mimetype": "text/x-python",
   "name": "python",
   "nbconvert_exporter": "python",
   "pygments_lexer": "ipython3",
   "version": "3.12.7"
  }
 },
 "nbformat": 4,
 "nbformat_minor": 2
}
