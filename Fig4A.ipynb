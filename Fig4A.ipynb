{
 "cells": [
  {
   "cell_type": "code",
   "execution_count": 1,
   "metadata": {
    "execution": {
     "iopub.execute_input": "2024-11-27T21:30:52.891463Z",
     "iopub.status.busy": "2024-11-27T21:30:52.891174Z",
     "iopub.status.idle": "2024-11-27T21:30:57.659574Z",
     "shell.execute_reply": "2024-11-27T21:30:57.658856Z"
    }
   },
   "outputs": [],
   "source": [
    "import pandas as pd\n",
    "import matplotlib.pyplot as plt\n",
    "import seaborn as sns\n",
    "import topmed_manuscript_clean as tm\n",
    "\n",
    "PREFIX = 'Fig4A.'\n",
    "METADATA = '../../manuscript-intermediate-processing/data/metadata/metadata.tm.txt'\n",
    "metadata = pd.read_csv(METADATA, sep='\\t')"
   ]
  },
  {
   "cell_type": "code",
   "execution_count": 2,
   "metadata": {
    "execution": {
     "iopub.execute_input": "2024-11-27T21:30:57.662031Z",
     "iopub.status.busy": "2024-11-27T21:30:57.661735Z",
     "iopub.status.idle": "2024-11-27T21:30:57.676818Z",
     "shell.execute_reply": "2024-11-27T21:30:57.676412Z"
    }
   },
   "outputs": [],
   "source": [
    "sample_size_dict = metadata[metadata.used_for_scan].groupby('tissue').size().to_dict()\n",
    "tissue_order = list(sorted(sample_size_dict.keys(), key=lambda x: sample_size_dict[x], reverse=False))"
   ]
  },
  {
   "cell_type": "code",
   "execution_count": 3,
   "metadata": {
    "execution": {
     "iopub.execute_input": "2024-11-27T21:30:57.678259Z",
     "iopub.status.busy": "2024-11-27T21:30:57.677947Z",
     "iopub.status.idle": "2024-11-27T21:30:58.776284Z",
     "shell.execute_reply": "2024-11-27T21:30:58.775557Z"
    }
   },
   "outputs": [
    {
     "data": {
      "text/html": [
       "<div>\n",
       "<style scoped>\n",
       "    .dataframe tbody tr th:only-of-type {\n",
       "        vertical-align: middle;\n",
       "    }\n",
       "\n",
       "    .dataframe tbody tr th {\n",
       "        vertical-align: top;\n",
       "    }\n",
       "\n",
       "    .dataframe thead th {\n",
       "        text-align: right;\n",
       "    }\n",
       "</style>\n",
       "<table border=\"1\" class=\"dataframe\">\n",
       "  <thead>\n",
       "    <tr style=\"text-align: right;\">\n",
       "      <th></th>\n",
       "      <th>variant_id</th>\n",
       "      <th>cs_id</th>\n",
       "      <th>pip</th>\n",
       "      <th>trait_ancestry_region</th>\n",
       "    </tr>\n",
       "  </thead>\n",
       "  <tbody>\n",
       "    <tr>\n",
       "      <th>0</th>\n",
       "      <td>chr17_40608272_T_A</td>\n",
       "      <td>L1</td>\n",
       "      <td>0.999999</td>\n",
       "      <td>categorical-6152-both_sexes-100___EUR___chr17_...</td>\n",
       "    </tr>\n",
       "    <tr>\n",
       "      <th>1</th>\n",
       "      <td>chr17_39872381_G_T</td>\n",
       "      <td>L2</td>\n",
       "      <td>0.003558</td>\n",
       "      <td>categorical-6152-both_sexes-100___EUR___chr17_...</td>\n",
       "    </tr>\n",
       "    <tr>\n",
       "      <th>2</th>\n",
       "      <td>chr17_39886524_T_A</td>\n",
       "      <td>L2</td>\n",
       "      <td>0.003599</td>\n",
       "      <td>categorical-6152-both_sexes-100___EUR___chr17_...</td>\n",
       "    </tr>\n",
       "    <tr>\n",
       "      <th>3</th>\n",
       "      <td>chr17_39887090_G_A</td>\n",
       "      <td>L2</td>\n",
       "      <td>0.003599</td>\n",
       "      <td>categorical-6152-both_sexes-100___EUR___chr17_...</td>\n",
       "    </tr>\n",
       "    <tr>\n",
       "      <th>4</th>\n",
       "      <td>chr17_39891991_T_C</td>\n",
       "      <td>L2</td>\n",
       "      <td>0.003592</td>\n",
       "      <td>categorical-6152-both_sexes-100___EUR___chr17_...</td>\n",
       "    </tr>\n",
       "  </tbody>\n",
       "</table>\n",
       "</div>"
      ],
      "text/plain": [
       "           variant_id cs_id       pip  \\\n",
       "0  chr17_40608272_T_A    L1  0.999999   \n",
       "1  chr17_39872381_G_T    L2  0.003558   \n",
       "2  chr17_39886524_T_A    L2  0.003599   \n",
       "3  chr17_39887090_G_A    L2  0.003599   \n",
       "4  chr17_39891991_T_C    L2  0.003592   \n",
       "\n",
       "                               trait_ancestry_region  \n",
       "0  categorical-6152-both_sexes-100___EUR___chr17_...  \n",
       "1  categorical-6152-both_sexes-100___EUR___chr17_...  \n",
       "2  categorical-6152-both_sexes-100___EUR___chr17_...  \n",
       "3  categorical-6152-both_sexes-100___EUR___chr17_...  \n",
       "4  categorical-6152-both_sexes-100___EUR___chr17_...  "
      ]
     },
     "execution_count": 3,
     "metadata": {},
     "output_type": "execute_result"
    }
   ],
   "source": [
    "all_gwas_signals = pd.read_csv('/net/topmed11/working/porchard/panukbb-finemapping/work/ancestry-specific-finemapping/lift-susie/results/susie-cs-and-convergence/gwas.cs.txt', sep='\\t', header=None, names=['variant_id', 'cs_id', 'pip', 'trait_ancestry_region'])\n",
    "all_gwas_signals.head()"
   ]
  },
  {
   "cell_type": "code",
   "execution_count": 4,
   "metadata": {
    "execution": {
     "iopub.execute_input": "2024-11-27T21:30:58.806571Z",
     "iopub.status.busy": "2024-11-27T21:30:58.806008Z",
     "iopub.status.idle": "2024-11-27T21:30:58.834414Z",
     "shell.execute_reply": "2024-11-27T21:30:58.834045Z"
    }
   },
   "outputs": [
    {
     "data": {
      "text/html": [
       "<div>\n",
       "<style scoped>\n",
       "    .dataframe tbody tr th:only-of-type {\n",
       "        vertical-align: middle;\n",
       "    }\n",
       "\n",
       "    .dataframe tbody tr th {\n",
       "        vertical-align: top;\n",
       "    }\n",
       "\n",
       "    .dataframe thead th {\n",
       "        text-align: right;\n",
       "    }\n",
       "</style>\n",
       "<table border=\"1\" class=\"dataframe\">\n",
       "  <thead>\n",
       "    <tr style=\"text-align: right;\">\n",
       "      <th></th>\n",
       "      <th>trait_ancestry_region</th>\n",
       "      <th>converged</th>\n",
       "    </tr>\n",
       "  </thead>\n",
       "  <tbody>\n",
       "    <tr>\n",
       "      <th>0</th>\n",
       "      <td>categorical-6152-both_sexes-100___EUR___chr17_...</td>\n",
       "      <td>True</td>\n",
       "    </tr>\n",
       "    <tr>\n",
       "      <th>1</th>\n",
       "      <td>categorical-6152-both_sexes-100___EUR___chr17_...</td>\n",
       "      <td>True</td>\n",
       "    </tr>\n",
       "    <tr>\n",
       "      <th>2</th>\n",
       "      <td>categorical-6152-both_sexes-100___EUR___chr17_...</td>\n",
       "      <td>True</td>\n",
       "    </tr>\n",
       "    <tr>\n",
       "      <th>3</th>\n",
       "      <td>categorical-6152-both_sexes-100___EUR___chr17_...</td>\n",
       "      <td>True</td>\n",
       "    </tr>\n",
       "    <tr>\n",
       "      <th>4</th>\n",
       "      <td>categorical-6152-both_sexes-100___EUR___chr17_...</td>\n",
       "      <td>True</td>\n",
       "    </tr>\n",
       "  </tbody>\n",
       "</table>\n",
       "</div>"
      ],
      "text/plain": [
       "                               trait_ancestry_region  converged\n",
       "0  categorical-6152-both_sexes-100___EUR___chr17_...       True\n",
       "1  categorical-6152-both_sexes-100___EUR___chr17_...       True\n",
       "2  categorical-6152-both_sexes-100___EUR___chr17_...       True\n",
       "3  categorical-6152-both_sexes-100___EUR___chr17_...       True\n",
       "4  categorical-6152-both_sexes-100___EUR___chr17_...       True"
      ]
     },
     "execution_count": 4,
     "metadata": {},
     "output_type": "execute_result"
    }
   ],
   "source": [
    "gwas_convergence = pd.read_csv('/net/topmed11/working/porchard/panukbb-finemapping/work/ancestry-specific-finemapping/lift-susie/results/susie-cs-and-convergence/gwas.converged.txt', sep='\\t', header=None, names=['trait_ancestry_region', 'converged'])\n",
    "gwas_convergence.head()"
   ]
  },
  {
   "cell_type": "code",
   "execution_count": 5,
   "metadata": {
    "execution": {
     "iopub.execute_input": "2024-11-27T21:30:58.835878Z",
     "iopub.status.busy": "2024-11-27T21:30:58.835646Z",
     "iopub.status.idle": "2024-11-27T21:30:58.841118Z",
     "shell.execute_reply": "2024-11-27T21:30:58.840724Z"
    }
   },
   "outputs": [
    {
     "data": {
      "text/html": [
       "<div>\n",
       "<style scoped>\n",
       "    .dataframe tbody tr th:only-of-type {\n",
       "        vertical-align: middle;\n",
       "    }\n",
       "\n",
       "    .dataframe tbody tr th {\n",
       "        vertical-align: top;\n",
       "    }\n",
       "\n",
       "    .dataframe thead th {\n",
       "        text-align: right;\n",
       "    }\n",
       "</style>\n",
       "<table border=\"1\" class=\"dataframe\">\n",
       "  <thead>\n",
       "    <tr style=\"text-align: right;\">\n",
       "      <th></th>\n",
       "      <th>trait_ancestry_region</th>\n",
       "      <th>converged</th>\n",
       "    </tr>\n",
       "  </thead>\n",
       "  <tbody>\n",
       "    <tr>\n",
       "      <th>859</th>\n",
       "      <td>biomarkers-30830-both_sexes-irnt___EUR___chr17...</td>\n",
       "      <td>False</td>\n",
       "    </tr>\n",
       "    <tr>\n",
       "      <th>3766</th>\n",
       "      <td>continuous-30040-both_sexes-irnt___EUR___chr6_...</td>\n",
       "      <td>False</td>\n",
       "    </tr>\n",
       "    <tr>\n",
       "      <th>5898</th>\n",
       "      <td>categorical-1747-both_sexes-4___EUR___chr15_26...</td>\n",
       "      <td>False</td>\n",
       "    </tr>\n",
       "    <tr>\n",
       "      <th>10513</th>\n",
       "      <td>continuous-1717-both_sexes___EUR___chr11_87832...</td>\n",
       "      <td>False</td>\n",
       "    </tr>\n",
       "    <tr>\n",
       "      <th>10537</th>\n",
       "      <td>continuous-1717-both_sexes___EUR___chr15_27022...</td>\n",
       "      <td>False</td>\n",
       "    </tr>\n",
       "    <tr>\n",
       "      <th>10551</th>\n",
       "      <td>continuous-1717-both_sexes___EUR___chr16_87151...</td>\n",
       "      <td>False</td>\n",
       "    </tr>\n",
       "    <tr>\n",
       "      <th>17727</th>\n",
       "      <td>biomarkers-30610-both_sexes-irnt___EUR___chr17...</td>\n",
       "      <td>False</td>\n",
       "    </tr>\n",
       "  </tbody>\n",
       "</table>\n",
       "</div>"
      ],
      "text/plain": [
       "                                   trait_ancestry_region  converged\n",
       "859    biomarkers-30830-both_sexes-irnt___EUR___chr17...      False\n",
       "3766   continuous-30040-both_sexes-irnt___EUR___chr6_...      False\n",
       "5898   categorical-1747-both_sexes-4___EUR___chr15_26...      False\n",
       "10513  continuous-1717-both_sexes___EUR___chr11_87832...      False\n",
       "10537  continuous-1717-both_sexes___EUR___chr15_27022...      False\n",
       "10551  continuous-1717-both_sexes___EUR___chr16_87151...      False\n",
       "17727  biomarkers-30610-both_sexes-irnt___EUR___chr17...      False"
      ]
     },
     "execution_count": 5,
     "metadata": {},
     "output_type": "execute_result"
    }
   ],
   "source": [
    "gwas_convergence[~gwas_convergence.converged]"
   ]
  },
  {
   "cell_type": "code",
   "execution_count": 6,
   "metadata": {
    "execution": {
     "iopub.execute_input": "2024-11-27T21:30:58.842667Z",
     "iopub.status.busy": "2024-11-27T21:30:58.842321Z",
     "iopub.status.idle": "2024-11-27T21:31:01.680644Z",
     "shell.execute_reply": "2024-11-27T21:31:01.680214Z"
    }
   },
   "outputs": [
    {
     "data": {
      "text/plain": [
       "'we colocalized independent e/sQTL signals with 34,107 fine-mapped EUR GWAS signals from 164 UK Biobank traits (TABLE; we finemapped AFR GWAS signals as well but only 96 AFR GWAS credible sets were discovered due to small sample size'"
      ]
     },
     "execution_count": 6,
     "metadata": {},
     "output_type": "execute_result"
    }
   ],
   "source": [
    "all_gwas_signals = all_gwas_signals.merge(gwas_convergence, validate='many_to_one')\n",
    "all_gwas_signals = all_gwas_signals[all_gwas_signals.converged]\n",
    "\n",
    "\n",
    "'we colocalized independent e/sQTL signals with {:,} fine-mapped EUR GWAS signals from {} UK Biobank traits (TABLE; we finemapped AFR GWAS signals as well but only {:,} AFR GWAS credible sets were discovered due to small sample size'.format(\n",
    "    len(all_gwas_signals.loc[all_gwas_signals.trait_ancestry_region.str.contains('___EUR___'),['trait_ancestry_region', 'cs_id']].drop_duplicates()),\n",
    "    all_gwas_signals[all_gwas_signals.trait_ancestry_region.str.contains('___EUR___')].trait_ancestry_region.str.split('___', expand=True)[0].nunique(),\n",
    "    len(all_gwas_signals.loc[all_gwas_signals.trait_ancestry_region.str.contains('___AFR___'),['trait_ancestry_region', 'cs_id']].drop_duplicates()),\n",
    ")\n",
    "\n"
   ]
  },
  {
   "cell_type": "code",
   "execution_count": 7,
   "metadata": {
    "execution": {
     "iopub.execute_input": "2024-11-27T21:31:01.682326Z",
     "iopub.status.busy": "2024-11-27T21:31:01.682080Z",
     "iopub.status.idle": "2024-11-27T21:31:02.292244Z",
     "shell.execute_reply": "2024-11-27T21:31:02.291692Z"
    }
   },
   "outputs": [],
   "source": [
    "all_gwas_signals = all_gwas_signals[all_gwas_signals.trait_ancestry_region.str.contains('___EUR___')]\n",
    "number_total_signals = len(all_gwas_signals[['trait_ancestry_region', 'cs_id']].drop_duplicates())"
   ]
  },
  {
   "cell_type": "code",
   "execution_count": 8,
   "metadata": {
    "execution": {
     "iopub.execute_input": "2024-11-27T21:31:02.294371Z",
     "iopub.status.busy": "2024-11-27T21:31:02.293976Z",
     "iopub.status.idle": "2024-11-27T21:31:03.023768Z",
     "shell.execute_reply": "2024-11-27T21:31:03.022858Z"
    }
   },
   "outputs": [],
   "source": [
    "coloced_joint = pd.read_csv('../../manuscript-intermediate-processing/work/coloc/panukbb/joint/postprocessed.txt', sep='\\t')\n",
    "coloced_ancestry_specific = pd.read_csv('../../manuscript-intermediate-processing/work/coloc/panukbb/ancestry-specific/postprocessed.txt', sep='\\t')\n",
    "coloced_joint = coloced_joint[(coloced_joint.xqtl_maf!='0.1%')]\n",
    "coloced_ancestry_specific = coloced_ancestry_specific[(coloced_ancestry_specific.xqtl_maf!='0.1%')]"
   ]
  },
  {
   "cell_type": "code",
   "execution_count": 9,
   "metadata": {
    "execution": {
     "iopub.execute_input": "2024-11-27T21:31:03.026140Z",
     "iopub.status.busy": "2024-11-27T21:31:03.025881Z",
     "iopub.status.idle": "2024-11-27T21:31:03.054816Z",
     "shell.execute_reply": "2024-11-27T21:31:03.054246Z"
    }
   },
   "outputs": [],
   "source": [
    "# narrow to EUR GWAS\n",
    "coloced_joint = coloced_joint[coloced_joint.gwas_ancestry=='EUR']\n",
    "coloced_ancestry_specific = coloced_ancestry_specific[coloced_ancestry_specific.gwas_ancestry=='EUR']"
   ]
  },
  {
   "cell_type": "code",
   "execution_count": 10,
   "metadata": {
    "execution": {
     "iopub.execute_input": "2024-11-27T21:31:03.056571Z",
     "iopub.status.busy": "2024-11-27T21:31:03.056347Z",
     "iopub.status.idle": "2024-11-27T21:31:03.108405Z",
     "shell.execute_reply": "2024-11-27T21:31:03.107961Z"
    }
   },
   "outputs": [
    {
     "data": {
      "text/html": [
       "<div>\n",
       "<style scoped>\n",
       "    .dataframe tbody tr th:only-of-type {\n",
       "        vertical-align: middle;\n",
       "    }\n",
       "\n",
       "    .dataframe tbody tr th {\n",
       "        vertical-align: top;\n",
       "    }\n",
       "\n",
       "    .dataframe thead th {\n",
       "        text-align: right;\n",
       "    }\n",
       "</style>\n",
       "<table border=\"1\" class=\"dataframe\">\n",
       "  <thead>\n",
       "    <tr style=\"text-align: right;\">\n",
       "      <th></th>\n",
       "      <th>xqtl_modality</th>\n",
       "      <th>xqtl_tissue</th>\n",
       "      <th>xqtl_maf</th>\n",
       "      <th>gwas_signals</th>\n",
       "    </tr>\n",
       "  </thead>\n",
       "  <tbody>\n",
       "    <tr>\n",
       "      <th>0</th>\n",
       "      <td>cis-eQTL</td>\n",
       "      <td>Lung</td>\n",
       "      <td>1%</td>\n",
       "      <td>4065</td>\n",
       "    </tr>\n",
       "    <tr>\n",
       "      <th>1</th>\n",
       "      <td>cis-eQTL</td>\n",
       "      <td>Monocyte</td>\n",
       "      <td>1%</td>\n",
       "      <td>2058</td>\n",
       "    </tr>\n",
       "    <tr>\n",
       "      <th>2</th>\n",
       "      <td>cis-eQTL</td>\n",
       "      <td>Nasal_epithelial</td>\n",
       "      <td>1%</td>\n",
       "      <td>2240</td>\n",
       "    </tr>\n",
       "    <tr>\n",
       "      <th>3</th>\n",
       "      <td>cis-eQTL</td>\n",
       "      <td>PBMC</td>\n",
       "      <td>1%</td>\n",
       "      <td>3613</td>\n",
       "    </tr>\n",
       "    <tr>\n",
       "      <th>4</th>\n",
       "      <td>cis-eQTL</td>\n",
       "      <td>T_cell</td>\n",
       "      <td>1%</td>\n",
       "      <td>2200</td>\n",
       "    </tr>\n",
       "  </tbody>\n",
       "</table>\n",
       "</div>"
      ],
      "text/plain": [
       "  xqtl_modality       xqtl_tissue xqtl_maf  gwas_signals\n",
       "0      cis-eQTL              Lung       1%          4065\n",
       "1      cis-eQTL          Monocyte       1%          2058\n",
       "2      cis-eQTL  Nasal_epithelial       1%          2240\n",
       "3      cis-eQTL              PBMC       1%          3613\n",
       "4      cis-eQTL            T_cell       1%          2200"
      ]
     },
     "execution_count": 10,
     "metadata": {},
     "output_type": "execute_result"
    }
   ],
   "source": [
    "# barplot of number of GWAS signals colocing with each tissue/modality\n",
    "n_gwas_signals_coloced_joint = coloced_joint[['xqtl_modality', 'xqtl_tissue', 'xqtl_maf', 'gwas_signal', 'gwas_cs']].drop_duplicates().groupby(['xqtl_modality', 'xqtl_tissue', 'xqtl_maf']).size().rename('gwas_signals').reset_index()\n",
    "n_gwas_signals_coloced_ancestry_specific = coloced_ancestry_specific[['xqtl_modality', 'xqtl_tissue', 'xqtl_maf', 'gwas_signal', 'gwas_cs']].drop_duplicates().groupby(['xqtl_modality', 'xqtl_tissue', 'xqtl_maf']).size().rename('gwas_signals').reset_index()\n",
    "n_gwas_signals_coloced_joint['xqtl_modality'] = n_gwas_signals_coloced_joint['xqtl_modality'].map(tm.format_modality)\n",
    "n_gwas_signals_coloced_ancestry_specific['xqtl_modality'] = n_gwas_signals_coloced_ancestry_specific['xqtl_modality'].map(tm.format_modality)\n",
    "n_gwas_signals_coloced_joint.head()"
   ]
  },
  {
   "cell_type": "code",
   "execution_count": 11,
   "metadata": {
    "execution": {
     "iopub.execute_input": "2024-11-27T21:31:03.109913Z",
     "iopub.status.busy": "2024-11-27T21:31:03.109701Z",
     "iopub.status.idle": "2024-11-27T21:31:03.116204Z",
     "shell.execute_reply": "2024-11-27T21:31:03.115786Z"
    }
   },
   "outputs": [
    {
     "data": {
      "text/html": [
       "<div>\n",
       "<style scoped>\n",
       "    .dataframe tbody tr th:only-of-type {\n",
       "        vertical-align: middle;\n",
       "    }\n",
       "\n",
       "    .dataframe tbody tr th {\n",
       "        vertical-align: top;\n",
       "    }\n",
       "\n",
       "    .dataframe thead th {\n",
       "        text-align: right;\n",
       "    }\n",
       "</style>\n",
       "<table border=\"1\" class=\"dataframe\">\n",
       "  <thead>\n",
       "    <tr style=\"text-align: right;\">\n",
       "      <th></th>\n",
       "      <th>xqtl_modality</th>\n",
       "      <th>xqtl_tissue</th>\n",
       "      <th>xqtl_maf</th>\n",
       "      <th>gwas_signals</th>\n",
       "      <th>fraction_gwas_signals</th>\n",
       "    </tr>\n",
       "  </thead>\n",
       "  <tbody>\n",
       "    <tr>\n",
       "      <th>0</th>\n",
       "      <td>cis-eQTL</td>\n",
       "      <td>Lung</td>\n",
       "      <td>1%</td>\n",
       "      <td>4065</td>\n",
       "      <td>0.119184</td>\n",
       "    </tr>\n",
       "    <tr>\n",
       "      <th>1</th>\n",
       "      <td>cis-eQTL</td>\n",
       "      <td>Monocyte</td>\n",
       "      <td>1%</td>\n",
       "      <td>2058</td>\n",
       "      <td>0.060340</td>\n",
       "    </tr>\n",
       "    <tr>\n",
       "      <th>2</th>\n",
       "      <td>cis-eQTL</td>\n",
       "      <td>Nasal_epithelial</td>\n",
       "      <td>1%</td>\n",
       "      <td>2240</td>\n",
       "      <td>0.065676</td>\n",
       "    </tr>\n",
       "    <tr>\n",
       "      <th>3</th>\n",
       "      <td>cis-eQTL</td>\n",
       "      <td>PBMC</td>\n",
       "      <td>1%</td>\n",
       "      <td>3613</td>\n",
       "      <td>0.105931</td>\n",
       "    </tr>\n",
       "    <tr>\n",
       "      <th>4</th>\n",
       "      <td>cis-eQTL</td>\n",
       "      <td>T_cell</td>\n",
       "      <td>1%</td>\n",
       "      <td>2200</td>\n",
       "      <td>0.064503</td>\n",
       "    </tr>\n",
       "  </tbody>\n",
       "</table>\n",
       "</div>"
      ],
      "text/plain": [
       "  xqtl_modality       xqtl_tissue xqtl_maf  gwas_signals  \\\n",
       "0      cis-eQTL              Lung       1%          4065   \n",
       "1      cis-eQTL          Monocyte       1%          2058   \n",
       "2      cis-eQTL  Nasal_epithelial       1%          2240   \n",
       "3      cis-eQTL              PBMC       1%          3613   \n",
       "4      cis-eQTL            T_cell       1%          2200   \n",
       "\n",
       "   fraction_gwas_signals  \n",
       "0               0.119184  \n",
       "1               0.060340  \n",
       "2               0.065676  \n",
       "3               0.105931  \n",
       "4               0.064503  "
      ]
     },
     "execution_count": 11,
     "metadata": {},
     "output_type": "execute_result"
    }
   ],
   "source": [
    "n_gwas_signals_coloced_joint['fraction_gwas_signals'] = n_gwas_signals_coloced_joint['gwas_signals'] / number_total_signals\n",
    "n_gwas_signals_coloced_joint.head()"
   ]
  },
  {
   "cell_type": "code",
   "execution_count": 12,
   "metadata": {
    "execution": {
     "iopub.execute_input": "2024-11-27T21:31:03.117545Z",
     "iopub.status.busy": "2024-11-27T21:31:03.117348Z",
     "iopub.status.idle": "2024-11-27T21:31:03.120411Z",
     "shell.execute_reply": "2024-11-27T21:31:03.119996Z"
    }
   },
   "outputs": [],
   "source": [
    "def calculate_dodge(items, width=0.8):\n",
    "    number_bars = len(items)\n",
    "    bar_width = width / number_bars\n",
    "    bar_starts = [(1-width)/2 + i*bar_width - 0.5 for i in range(number_bars)]\n",
    "    bar_centers = [i+bar_width/2 for i in bar_starts]\n",
    "    return bar_centers\n",
    "\n",
    "tissue_to_dodge = dict(zip(tissue_order[::-1], calculate_dodge(tissue_order)))"
   ]
  },
  {
   "cell_type": "code",
   "execution_count": 13,
   "metadata": {
    "execution": {
     "iopub.execute_input": "2024-11-27T21:31:03.121719Z",
     "iopub.status.busy": "2024-11-27T21:31:03.121511Z",
     "iopub.status.idle": "2024-11-27T21:31:03.726712Z",
     "shell.execute_reply": "2024-11-27T21:31:03.726150Z"
    }
   },
   "outputs": [
    {
     "name": "stderr",
     "output_type": "stream",
     "text": [
      "/tmp/ipykernel_3991648/2243172071.py:8: SettingWithCopyWarning: \n",
      "A value is trying to be set on a copy of a slice from a DataFrame.\n",
      "Try using .loc[row_indexer,col_indexer] = value instead\n",
      "\n",
      "See the caveats in the documentation: https://pandas.pydata.org/pandas-docs/stable/user_guide/indexing.html#returning-a-view-versus-a-copy\n",
      "  df['y'] = [modality_to_y[modality] + tissue_to_dodge[tissue] for tissue, modality in zip(df.xqtl_tissue, df.xqtl_modality)]\n",
      "/tmp/ipykernel_3991648/2243172071.py:19: SettingWithCopyWarning: \n",
      "A value is trying to be set on a copy of a slice from a DataFrame.\n",
      "Try using .loc[row_indexer,col_indexer] = value instead\n",
      "\n",
      "See the caveats in the documentation: https://pandas.pydata.org/pandas-docs/stable/user_guide/indexing.html#returning-a-view-versus-a-copy\n",
      "  df['y'] = [modality_to_y[modality] + tissue_to_dodge[tissue] for tissue, modality in zip(df.xqtl_tissue, df.xqtl_modality)]\n"
     ]
    },
    {
     "data": {
      "image/png": "[encoded data removed]",
      "text/plain": [
       "<Figure size 350x600 with 2 Axes>"
      ]
     },
     "metadata": {},
     "output_type": "display_data"
    }
   ],
   "source": [
    "fig, axs = plt.subplots(ncols=1, nrows=2, figsize=(3.5, 3*2))\n",
    "\n",
    "tmp = n_gwas_signals_coloced_joint[n_gwas_signals_coloced_joint.xqtl_maf!='0.1%']\n",
    "tmp.xqtl_tissue = pd.Categorical(tmp.xqtl_tissue, tissue_order[::-1], ordered=True)\n",
    "\n",
    "df = tmp[tmp.xqtl_modality.str.contains('cis')]\n",
    "modality_to_y = {j: i for i, j in enumerate(df.xqtl_modality.unique())}\n",
    "df['y'] = [modality_to_y[modality] + tissue_to_dodge[tissue] for tissue, modality in zip(df.xqtl_tissue, df.xqtl_modality)]\n",
    "\n",
    "ax = axs[0]\n",
    "sns.barplot(y='xqtl_modality', x='fraction_gwas_signals', hue='xqtl_tissue', palette=tm.palettes['tissue'], data=df, ax=ax)\n",
    "ax.set_xlabel('Fraction of GWAS\\ncredible sets colocalizing')\n",
    "ax.set_ylabel('')\n",
    "ax.legend().remove()\n",
    "[ax.text(x=fraction_gwas_signals, y=y, s='{:,}'.format(gwas_signals), color='black' if gwas_signals < 0.9 * df.gwas_signals.max() else 'white', ha='left' if gwas_signals < 0.9 * df.gwas_signals.max() else 'right', va='center') for fraction_gwas_signals, y, gwas_signals in zip(df.fraction_gwas_signals, df.y, df.gwas_signals)]\n",
    "\n",
    "df = tmp[tmp.xqtl_modality.str.contains('trans')]\n",
    "modality_to_y = {j: i for i, j in enumerate(df.xqtl_modality.unique())}\n",
    "df['y'] = [modality_to_y[modality] + tissue_to_dodge[tissue] for tissue, modality in zip(df.xqtl_tissue, df.xqtl_modality)]\n",
    "\n",
    "ax = axs[1]\n",
    "sns.barplot(y='xqtl_modality', x='fraction_gwas_signals', hue='xqtl_tissue', palette=tm.palettes['tissue'], data=tmp[tmp.xqtl_modality.str.contains('trans')], ax=ax)\n",
    "ax.set_xlabel('Fraction of GWAS\\ncredible sets colocalizing')\n",
    "ax.set_ylabel('')\n",
    "[ax.text(x=fraction_gwas_signals, y=y, s='{:,}'.format(gwas_signals), color='black' if gwas_signals < 0.9 * df.gwas_signals.max() else 'white', ha='left' if gwas_signals < 0.9 * df.gwas_signals.max() else 'right', va='center') for fraction_gwas_signals, y, gwas_signals in zip(df.fraction_gwas_signals, df.y, df.gwas_signals)]\n",
    "ax.legend(loc='lower right').set_title('')\n",
    "\n",
    "\n",
    "fig.tight_layout()\n",
    "fig.savefig(f'figures/{PREFIX}png', dpi=300, facecolor='white', bbox_inches='tight')"
   ]
  }
 ],
 "metadata": {
  "kernelspec": {
   "display_name": "2020-09",
   "language": "python",
   "name": "python3"
  },
  "language_info": {
   "codemirror_mode": {
    "name": "ipython",
    "version": 3
   },
   "file_extension": ".py",
   "mimetype": "text/x-python",
   "name": "python",
   "nbconvert_exporter": "python",
   "pygments_lexer": "ipython3",
   "version": "3.12.7"
  }
 },
 "nbformat": 4,
 "nbformat_minor": 2
}
