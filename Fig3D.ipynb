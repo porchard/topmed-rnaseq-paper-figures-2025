{
 "cells": [
  {
   "cell_type": "code",
   "execution_count": 1,
   "metadata": {
    "execution": {
     "iopub.execute_input": "2024-11-27T16:50:57.394318Z",
     "iopub.status.busy": "2024-11-27T16:50:57.393655Z",
     "iopub.status.idle": "2024-11-27T16:51:05.252138Z",
     "shell.execute_reply": "2024-11-27T16:51:05.251659Z"
    }
   },
   "outputs": [],
   "source": [
    "import pickle\n",
    "import topmed_manuscript_clean as tm\n",
    "import pandas as pd\n",
    "import seaborn as sns\n",
    "import matplotlib.pyplot as plt\n",
    "import matplotlib as mpl\n",
    "import matplotlib.cm as cm\n",
    "from qtl.locusplot import compute_ld\n",
    "import numpy as np\n",
    "import pygenometracks.tracks as pygtk\n",
    "from adjustText import adjust_text\n",
    "from mpl_toolkits.axes_grid1.inset_locator import inset_axes\n",
    "\n",
    "\n",
    "def get_lbf_df(susie_gene_result):\n",
    "    df = pd.DataFrame(susie_gene_result['lbf_variable'])\n",
    "    df.index = susie_gene_result['sets']['purity'].index\n",
    "    df.columns = susie_gene_result['pip'].index\n",
    "    return df\n",
    "\n",
    "PREFIX = 'Fig3D.'\n",
    "GENE_BED = '/net/topmed10/working/porchard/rnaseq/data/gtf/collapsed.names.bed'\n",
    "GTF = '../../manuscript-intermediate-processing/data/gtf/gencode.v30.GRCh38.ERCC.genes.collapsed_only.gtf.gz'\n",
    "METADATA = '../../manuscript-intermediate-processing/data/metadata/metadata.tm.txt'\n",
    "\n",
    "\n",
    "gtf_df = tm.gtf_to_df(GTF, parse_attributes=['gene_id', 'gene_name'])\n",
    "gtf_df = gtf_df[gtf_df.feature=='gene']\n",
    "gene_id_to_gene_name = dict(zip(gtf_df.gene_id, gtf_df.gene_name))\n",
    "gene_id_to_gene_chrom = dict(zip(gtf_df.gene_id, gtf_df.chrom))\n",
    "gene_id_to_tss_pos = {gene_id: start if strand == '+' else end for gene_id, start, end, strand in zip(gtf_df.gene_id, gtf_df.start, gtf_df.end, gtf_df.strand)}\n",
    "metadata = pd.read_csv(METADATA, sep='\\t')"
   ]
  },
  {
   "cell_type": "code",
   "execution_count": 2,
   "metadata": {
    "execution": {
     "iopub.execute_input": "2024-11-27T16:51:05.255215Z",
     "iopub.status.busy": "2024-11-27T16:51:05.255021Z",
     "iopub.status.idle": "2024-11-27T16:51:07.122148Z",
     "shell.execute_reply": "2024-11-27T16:51:07.121572Z"
    }
   },
   "outputs": [
    {
     "name": "stderr",
     "output_type": "stream",
     "text": [
      "\r",
      "  0%|                                                                                                                                                                                                                                                                                         | 0/58103 [00:00<?, ?it/s]"
     ]
    },
    {
     "name": "stderr",
     "output_type": "stream",
     "text": [
      "\r",
      "  4%|██████████▍                                                                                                                                                                                                                                                                | 2263/58103 [00:00<00:03, 15467.83it/s]"
     ]
    },
    {
     "name": "stderr",
     "output_type": "stream",
     "text": [
      "\r",
      " 11%|█████████████████████████████▌                                                                                                                                                                                                                                             | 6430/58103 [00:00<00:01, 28409.66it/s]"
     ]
    },
    {
     "name": "stderr",
     "output_type": "stream",
     "text": [
      "\r",
      " 18%|████████████████████████████████████████████████▌                                                                                                                                                                                                                         | 10611/58103 [00:00<00:01, 33953.18it/s]"
     ]
    },
    {
     "name": "stderr",
     "output_type": "stream",
     "text": [
      "\r",
      " 26%|███████████████████████████████████████████████████████████████████▉                                                                                                                                                                                                      | 14851/58103 [00:00<00:01, 37090.40it/s]"
     ]
    },
    {
     "name": "stderr",
     "output_type": "stream",
     "text": [
      "\r",
      " 32%|█████████████████████████████████████████████████████████████████████████████████████▌                                                                                                                                                                                    | 18696/58103 [00:00<00:01, 28871.05it/s]"
     ]
    },
    {
     "name": "stderr",
     "output_type": "stream",
     "text": [
      "\r",
      " 40%|█████████████████████████████████████████████████████████████████████████████████████████████████████████▏                                                                                                                                                                | 22976/58103 [00:00<00:01, 32709.73it/s]"
     ]
    },
    {
     "name": "stderr",
     "output_type": "stream",
     "text": [
      "\r",
      " 47%|█████████████████████████████████████████████████████████████████████████████████████████████████████████████████████████████▎                                                                                                                                            | 27374/58103 [00:00<00:00, 35893.36it/s]"
     ]
    },
    {
     "name": "stderr",
     "output_type": "stream",
     "text": [
      "\r",
      " 54%|██████████████████████████████████████████████████████████████████████████████████████████████████████████████████████████████████████████████▉                                                                                                                           | 31213/58103 [00:01<00:00, 27487.20it/s]"
     ]
    },
    {
     "name": "stderr",
     "output_type": "stream",
     "text": [
      "\r",
      " 61%|██████████████████████████████████████████████████████████████████████████████████████████████████████████████████████████████████████████████████████████████████▏                                                                                                       | 35440/58103 [00:01<00:00, 30971.56it/s]"
     ]
    },
    {
     "name": "stderr",
     "output_type": "stream",
     "text": [
      "\r",
      " 69%|██████████████████████████████████████████████████████████████████████████████████████████████████████████████████████████████████████████████████████████████████████████████████████▎                                                                                   | 39824/58103 [00:01<00:00, 34211.67it/s]"
     ]
    },
    {
     "name": "stderr",
     "output_type": "stream",
     "text": [
      "\r",
      " 76%|██████████████████████████████████████████████████████████████████████████████████████████████████████████████████████████████████████████████████████████████████████████████████████████████████████████                                                                | 44130/58103 [00:01<00:00, 36552.42it/s]"
     ]
    },
    {
     "name": "stderr",
     "output_type": "stream",
     "text": [
      "\r",
      " 83%|████████████████████████████████████████████████████████████████████████████████████████████████████████████████████████████████████████████████████████████████████████████████████████████████████████████████████████████                                              | 48071/58103 [00:01<00:00, 26480.84it/s]"
     ]
    },
    {
     "name": "stderr",
     "output_type": "stream",
     "text": [
      "\r",
      " 90%|███████████████████████████████████████████████████████████████████████████████████████████████████████████████████████████████████████████████████████████████████████████████████████████████████████████████████████████████████████████████▉                          | 52417/58103 [00:01<00:00, 30172.58it/s]"
     ]
    },
    {
     "name": "stderr",
     "output_type": "stream",
     "text": [
      "\r",
      " 98%|████████████████████████████████████████████████████████████████████████████████████████████████████████████████████████████████████████████████████████████████████████████████████████████████████████████████████████████████████████████████████████████████████▍     | 56893/58103 [00:01<00:00, 33630.37it/s]"
     ]
    },
    {
     "name": "stderr",
     "output_type": "stream",
     "text": [
      "\r",
      "100%|██████████████████████████████████████████████████████████████████████████████████████████████████████████████████████████████████████████████████████████████████████████████████████████████████████████████████████████████████████████████████████████████████████████| 58103/58103 [00:01<00:00, 31839.68it/s]"
     ]
    },
    {
     "name": "stderr",
     "output_type": "stream",
     "text": [
      "\n"
     ]
    }
   ],
   "source": [
    "track_config = dict(file=GENE_BED, arrow_length=1000, arrow_interval=10, file_type='bed', height=3, color='black', merge_transcripts=False, labels=True, section_name='', prefered_name='gene_name', global_max_row=False, fontstyle='italic', font_size=8\n",
    ", style=\"UCSC\", all_labels_inside=False, labels_in_margin=True)\n",
    "tk = pygtk.BedTrack(track_config)"
   ]
  },
  {
   "cell_type": "code",
   "execution_count": 3,
   "metadata": {
    "execution": {
     "iopub.execute_input": "2024-11-27T16:51:07.124500Z",
     "iopub.status.busy": "2024-11-27T16:51:07.124338Z",
     "iopub.status.idle": "2024-11-27T16:51:07.130787Z",
     "shell.execute_reply": "2024-11-27T16:51:07.130322Z"
    }
   },
   "outputs": [],
   "source": [
    "# AGAP2 w/ cis gene RREB1\n",
    "TISSUE = 'Whole_blood'\n",
    "CIS_MAF = '1%'\n",
    "CIS_PHENOTYPE = 'chr6:7231907:7246424:clu_37177_+:ENSG00000124782.20'\n",
    "TRANS_PHENOTYPE = 'ENSG00000135439.11'\n",
    "CIS_GENE = CIS_PHENOTYPE.split(':')[-1]\n",
    "TRANS_GENE = TRANS_PHENOTYPE.split(':')[-1]\n",
    "CIS_MODALITY = 'cis-eQTL' if CIS_PHENOTYPE == CIS_GENE else 'cis-sQTL'\n",
    "TRANS_MODALITY = 'trans-eQTL' if TRANS_PHENOTYPE == TRANS_GENE else 'trans-sQTL'\n",
    "\n",
    "CIS_GENE_NAME = gene_id_to_gene_name[CIS_GENE]\n",
    "TRANS_GENE_NAME = gene_id_to_gene_name[TRANS_GENE]\n",
    "samples = metadata[(metadata.used_for_scan) & (metadata.tissue==TISSUE)]\n",
    "\n",
    "CIS_GENE_CHROM = gene_id_to_gene_chrom[CIS_GENE]\n",
    "TRANS_GENE_CHROM = gene_id_to_gene_chrom[TRANS_GENE]\n",
    "CIS_GENE_TSS_POS = gene_id_to_tss_pos[CIS_GENE]\n",
    "REGION_START, REGION_END = int(CIS_GENE_TSS_POS - 1e6), int(CIS_GENE_TSS_POS + 1e6)\n",
    "VCF = f'/net/topmed10/working/porchard/rnaseq/work/scan-variant-vcf-files/freeze-2b/results/vcfs-by-chrom/{TISSUE}.{CIS_GENE_CHROM}.vcf.gz'\n",
    "\n",
    "susie_cis = '../../manuscript-intermediate-processing/data/scan-results/joint/cis-sqtl/susie/maf001/postprocessed/Whole_blood.by-gene.pickle'\n",
    "susie_trans = '../../manuscript-intermediate-processing/data/scan-results/joint/trans-eqtl/maf005/trans-susie/Whole_blood.susie.pickle'"
   ]
  },
  {
   "cell_type": "code",
   "execution_count": 4,
   "metadata": {
    "execution": {
     "iopub.execute_input": "2024-11-27T16:51:07.132728Z",
     "iopub.status.busy": "2024-11-27T16:51:07.132488Z",
     "iopub.status.idle": "2024-11-27T16:51:07.143499Z",
     "shell.execute_reply": "2024-11-27T16:51:07.143035Z"
    }
   },
   "outputs": [
    {
     "data": {
      "text/html": [
       "<div>\n",
       "<style scoped>\n",
       "    .dataframe tbody tr th:only-of-type {\n",
       "        vertical-align: middle;\n",
       "    }\n",
       "\n",
       "    .dataframe tbody tr th {\n",
       "        vertical-align: top;\n",
       "    }\n",
       "\n",
       "    .dataframe thead th {\n",
       "        text-align: right;\n",
       "    }\n",
       "</style>\n",
       "<table border=\"1\" class=\"dataframe\">\n",
       "  <thead>\n",
       "    <tr style=\"text-align: right;\">\n",
       "      <th></th>\n",
       "      <th>cohort</th>\n",
       "      <th>sequencing_center</th>\n",
       "      <th>tor</th>\n",
       "      <th>tissue</th>\n",
       "      <th>inferred_sex</th>\n",
       "      <th>wgs</th>\n",
       "      <th>used_for_scan</th>\n",
       "    </tr>\n",
       "  </thead>\n",
       "  <tbody>\n",
       "    <tr>\n",
       "      <th>4434</th>\n",
       "      <td>SPIROMICS</td>\n",
       "      <td>uw</td>\n",
       "      <td>TOR798065</td>\n",
       "      <td>Whole_blood</td>\n",
       "      <td>female</td>\n",
       "      <td>NWD877622</td>\n",
       "      <td>True</td>\n",
       "    </tr>\n",
       "    <tr>\n",
       "      <th>4438</th>\n",
       "      <td>SPIROMICS</td>\n",
       "      <td>uw</td>\n",
       "      <td>TOR176083</td>\n",
       "      <td>Whole_blood</td>\n",
       "      <td>male</td>\n",
       "      <td>NWD626737</td>\n",
       "      <td>True</td>\n",
       "    </tr>\n",
       "    <tr>\n",
       "      <th>4439</th>\n",
       "      <td>SPIROMICS</td>\n",
       "      <td>uw</td>\n",
       "      <td>TOR258806</td>\n",
       "      <td>Whole_blood</td>\n",
       "      <td>female</td>\n",
       "      <td>NWD136105</td>\n",
       "      <td>True</td>\n",
       "    </tr>\n",
       "    <tr>\n",
       "      <th>4442</th>\n",
       "      <td>SPIROMICS</td>\n",
       "      <td>uw</td>\n",
       "      <td>TOR595555</td>\n",
       "      <td>Whole_blood</td>\n",
       "      <td>female</td>\n",
       "      <td>NWD499935</td>\n",
       "      <td>True</td>\n",
       "    </tr>\n",
       "    <tr>\n",
       "      <th>4444</th>\n",
       "      <td>SPIROMICS</td>\n",
       "      <td>uw</td>\n",
       "      <td>TOR738006</td>\n",
       "      <td>Whole_blood</td>\n",
       "      <td>male</td>\n",
       "      <td>NWD634590</td>\n",
       "      <td>True</td>\n",
       "    </tr>\n",
       "  </tbody>\n",
       "</table>\n",
       "</div>"
      ],
      "text/plain": [
       "         cohort sequencing_center        tor       tissue inferred_sex  \\\n",
       "4434  SPIROMICS                uw  TOR798065  Whole_blood       female   \n",
       "4438  SPIROMICS                uw  TOR176083  Whole_blood         male   \n",
       "4439  SPIROMICS                uw  TOR258806  Whole_blood       female   \n",
       "4442  SPIROMICS                uw  TOR595555  Whole_blood       female   \n",
       "4444  SPIROMICS                uw  TOR738006  Whole_blood         male   \n",
       "\n",
       "            wgs  used_for_scan  \n",
       "4434  NWD877622           True  \n",
       "4438  NWD626737           True  \n",
       "4439  NWD136105           True  \n",
       "4442  NWD499935           True  \n",
       "4444  NWD634590           True  "
      ]
     },
     "execution_count": 4,
     "metadata": {},
     "output_type": "execute_result"
    }
   ],
   "source": [
    "samples.head()"
   ]
  },
  {
   "cell_type": "code",
   "execution_count": 5,
   "metadata": {
    "execution": {
     "iopub.execute_input": "2024-11-27T16:51:07.145383Z",
     "iopub.status.busy": "2024-11-27T16:51:07.145184Z",
     "iopub.status.idle": "2024-11-27T17:01:22.618689Z",
     "shell.execute_reply": "2024-11-27T17:01:22.617907Z"
    }
   },
   "outputs": [
    {
     "data": {
      "text/html": [
       "<div>\n",
       "<style scoped>\n",
       "    .dataframe tbody tr th:only-of-type {\n",
       "        vertical-align: middle;\n",
       "    }\n",
       "\n",
       "    .dataframe tbody tr th {\n",
       "        vertical-align: top;\n",
       "    }\n",
       "\n",
       "    .dataframe thead th {\n",
       "        text-align: right;\n",
       "    }\n",
       "</style>\n",
       "<table border=\"1\" class=\"dataframe\">\n",
       "  <thead>\n",
       "    <tr style=\"text-align: right;\">\n",
       "      <th></th>\n",
       "      <th>NWD731862</th>\n",
       "      <th>NWD108665</th>\n",
       "      <th>NWD859388</th>\n",
       "      <th>NWD549799</th>\n",
       "      <th>NWD982437</th>\n",
       "      <th>NWD204249</th>\n",
       "      <th>NWD716951</th>\n",
       "      <th>NWD839794</th>\n",
       "      <th>NWD679110</th>\n",
       "      <th>NWD278690</th>\n",
       "      <th>...</th>\n",
       "      <th>NWD644803</th>\n",
       "      <th>NWD699533</th>\n",
       "      <th>NWD799019</th>\n",
       "      <th>NWD727550</th>\n",
       "      <th>NWD676833</th>\n",
       "      <th>NWD555394</th>\n",
       "      <th>NWD195923</th>\n",
       "      <th>NWD343097</th>\n",
       "      <th>NWD790792</th>\n",
       "      <th>NWD823688</th>\n",
       "    </tr>\n",
       "  </thead>\n",
       "  <tbody>\n",
       "    <tr>\n",
       "      <th>chr6_6107645_G_T</th>\n",
       "      <td>0</td>\n",
       "      <td>0</td>\n",
       "      <td>0</td>\n",
       "      <td>0</td>\n",
       "      <td>0</td>\n",
       "      <td>0</td>\n",
       "      <td>0</td>\n",
       "      <td>0</td>\n",
       "      <td>0</td>\n",
       "      <td>0</td>\n",
       "      <td>...</td>\n",
       "      <td>0</td>\n",
       "      <td>0</td>\n",
       "      <td>0</td>\n",
       "      <td>0</td>\n",
       "      <td>0</td>\n",
       "      <td>0</td>\n",
       "      <td>0</td>\n",
       "      <td>0</td>\n",
       "      <td>0</td>\n",
       "      <td>0</td>\n",
       "    </tr>\n",
       "    <tr>\n",
       "      <th>chr6_6107856_A_C</th>\n",
       "      <td>0</td>\n",
       "      <td>0</td>\n",
       "      <td>0</td>\n",
       "      <td>0</td>\n",
       "      <td>1</td>\n",
       "      <td>0</td>\n",
       "      <td>1</td>\n",
       "      <td>0</td>\n",
       "      <td>0</td>\n",
       "      <td>0</td>\n",
       "      <td>...</td>\n",
       "      <td>0</td>\n",
       "      <td>0</td>\n",
       "      <td>1</td>\n",
       "      <td>0</td>\n",
       "      <td>0</td>\n",
       "      <td>0</td>\n",
       "      <td>0</td>\n",
       "      <td>1</td>\n",
       "      <td>0</td>\n",
       "      <td>0</td>\n",
       "    </tr>\n",
       "    <tr>\n",
       "      <th>chr6_6107992_A_T</th>\n",
       "      <td>1</td>\n",
       "      <td>0</td>\n",
       "      <td>1</td>\n",
       "      <td>1</td>\n",
       "      <td>0</td>\n",
       "      <td>0</td>\n",
       "      <td>0</td>\n",
       "      <td>0</td>\n",
       "      <td>0</td>\n",
       "      <td>0</td>\n",
       "      <td>...</td>\n",
       "      <td>0</td>\n",
       "      <td>0</td>\n",
       "      <td>0</td>\n",
       "      <td>1</td>\n",
       "      <td>0</td>\n",
       "      <td>0</td>\n",
       "      <td>0</td>\n",
       "      <td>0</td>\n",
       "      <td>1</td>\n",
       "      <td>0</td>\n",
       "    </tr>\n",
       "    <tr>\n",
       "      <th>chr6_6108259_A_G</th>\n",
       "      <td>1</td>\n",
       "      <td>1</td>\n",
       "      <td>2</td>\n",
       "      <td>1</td>\n",
       "      <td>1</td>\n",
       "      <td>1</td>\n",
       "      <td>0</td>\n",
       "      <td>0</td>\n",
       "      <td>2</td>\n",
       "      <td>2</td>\n",
       "      <td>...</td>\n",
       "      <td>2</td>\n",
       "      <td>2</td>\n",
       "      <td>1</td>\n",
       "      <td>1</td>\n",
       "      <td>1</td>\n",
       "      <td>1</td>\n",
       "      <td>0</td>\n",
       "      <td>1</td>\n",
       "      <td>1</td>\n",
       "      <td>0</td>\n",
       "    </tr>\n",
       "    <tr>\n",
       "      <th>chr6_6108265_A_G</th>\n",
       "      <td>0</td>\n",
       "      <td>0</td>\n",
       "      <td>0</td>\n",
       "      <td>1</td>\n",
       "      <td>0</td>\n",
       "      <td>0</td>\n",
       "      <td>0</td>\n",
       "      <td>0</td>\n",
       "      <td>0</td>\n",
       "      <td>0</td>\n",
       "      <td>...</td>\n",
       "      <td>0</td>\n",
       "      <td>0</td>\n",
       "      <td>0</td>\n",
       "      <td>0</td>\n",
       "      <td>0</td>\n",
       "      <td>0</td>\n",
       "      <td>0</td>\n",
       "      <td>0</td>\n",
       "      <td>0</td>\n",
       "      <td>0</td>\n",
       "    </tr>\n",
       "  </tbody>\n",
       "</table>\n",
       "<p>5 rows × 6454 columns</p>\n",
       "</div>"
      ],
      "text/plain": [
       "                  NWD731862  NWD108665  NWD859388  NWD549799  NWD982437  \\\n",
       "chr6_6107645_G_T          0          0          0          0          0   \n",
       "chr6_6107856_A_C          0          0          0          0          1   \n",
       "chr6_6107992_A_T          1          0          1          1          0   \n",
       "chr6_6108259_A_G          1          1          2          1          1   \n",
       "chr6_6108265_A_G          0          0          0          1          0   \n",
       "\n",
       "                  NWD204249  NWD716951  NWD839794  NWD679110  NWD278690  ...  \\\n",
       "chr6_6107645_G_T          0          0          0          0          0  ...   \n",
       "chr6_6107856_A_C          0          1          0          0          0  ...   \n",
       "chr6_6107992_A_T          0          0          0          0          0  ...   \n",
       "chr6_6108259_A_G          1          0          0          2          2  ...   \n",
       "chr6_6108265_A_G          0          0          0          0          0  ...   \n",
       "\n",
       "                  NWD644803  NWD699533  NWD799019  NWD727550  NWD676833  \\\n",
       "chr6_6107645_G_T          0          0          0          0          0   \n",
       "chr6_6107856_A_C          0          0          1          0          0   \n",
       "chr6_6107992_A_T          0          0          0          1          0   \n",
       "chr6_6108259_A_G          2          2          1          1          1   \n",
       "chr6_6108265_A_G          0          0          0          0          0   \n",
       "\n",
       "                  NWD555394  NWD195923  NWD343097  NWD790792  NWD823688  \n",
       "chr6_6107645_G_T          0          0          0          0          0  \n",
       "chr6_6107856_A_C          0          0          1          0          0  \n",
       "chr6_6107992_A_T          0          0          0          1          0  \n",
       "chr6_6108259_A_G          1          0          1          1          0  \n",
       "chr6_6108265_A_G          0          0          0          0          0  \n",
       "\n",
       "[5 rows x 6454 columns]"
      ]
     },
     "execution_count": 5,
     "metadata": {},
     "output_type": "execute_result"
    }
   ],
   "source": [
    "alt_allele_counts = tm.get_alt_allele_counts(VCF, region=f'{CIS_GENE_CHROM}:{REGION_START}-{REGION_END}', samples=samples.wgs.to_list())\n",
    "alt_allele_counts.head()"
   ]
  },
  {
   "cell_type": "code",
   "execution_count": 6,
   "metadata": {
    "execution": {
     "iopub.execute_input": "2024-11-27T17:01:22.621806Z",
     "iopub.status.busy": "2024-11-27T17:01:22.621600Z",
     "iopub.status.idle": "2024-11-27T17:01:22.910138Z",
     "shell.execute_reply": "2024-11-27T17:01:22.909489Z"
    }
   },
   "outputs": [],
   "source": [
    "# filter to MAF\n",
    "min_maf = 0.01 if CIS_MAF == '1%' else 0.001\n",
    "af = alt_allele_counts.sum(axis=1) / (len(alt_allele_counts.columns)*2)\n",
    "maf = np.minimum(af, 1-af)\n",
    "alt_allele_counts = alt_allele_counts[maf >= min_maf]"
   ]
  },
  {
   "cell_type": "code",
   "execution_count": 7,
   "metadata": {
    "execution": {
     "iopub.execute_input": "2024-11-27T17:01:22.912949Z",
     "iopub.status.busy": "2024-11-27T17:01:22.912718Z",
     "iopub.status.idle": "2024-11-27T17:01:42.614273Z",
     "shell.execute_reply": "2024-11-27T17:01:42.613641Z"
    }
   },
   "outputs": [],
   "source": [
    "with open(susie_cis, 'rb') as f:\n",
    "    susie_cis = pickle.load(f)\n",
    "with open(susie_trans, 'rb') as f:\n",
    "    susie_trans = pickle.load(f)\n",
    "cis_lbf = get_lbf_df(susie_cis[CIS_PHENOTYPE])\n",
    "trans_lbf = get_lbf_df(susie_trans[TRANS_PHENOTYPE])"
   ]
  },
  {
   "cell_type": "code",
   "execution_count": 8,
   "metadata": {
    "execution": {
     "iopub.execute_input": "2024-11-27T17:01:42.622983Z",
     "iopub.status.busy": "2024-11-27T17:01:42.622742Z",
     "iopub.status.idle": "2024-11-27T17:01:42.628483Z",
     "shell.execute_reply": "2024-11-27T17:01:42.628041Z"
    }
   },
   "outputs": [
    {
     "data": {
      "text/plain": [
       "L2          chr6_7231610_G_A\n",
       "L1          chr6_7240344_A_T\n",
       "L3    chr6_7145960_T_TGATGAA\n",
       "dtype: string"
      ]
     },
     "execution_count": 8,
     "metadata": {},
     "output_type": "execute_result"
    }
   ],
   "source": [
    "trans_lbf.idxmax(axis=1)"
   ]
  },
  {
   "cell_type": "code",
   "execution_count": 9,
   "metadata": {
    "execution": {
     "iopub.execute_input": "2024-11-27T17:01:42.630132Z",
     "iopub.status.busy": "2024-11-27T17:01:42.629942Z",
     "iopub.status.idle": "2024-11-27T17:01:42.635080Z",
     "shell.execute_reply": "2024-11-27T17:01:42.634690Z"
    }
   },
   "outputs": [
    {
     "data": {
      "text/plain": [
       "L1    chr6_7240344_A_T\n",
       "dtype: string"
      ]
     },
     "execution_count": 9,
     "metadata": {},
     "output_type": "execute_result"
    }
   ],
   "source": [
    "cis_lbf.idxmax(axis=1)"
   ]
  },
  {
   "cell_type": "code",
   "execution_count": 10,
   "metadata": {
    "execution": {
     "iopub.execute_input": "2024-11-27T17:01:42.636635Z",
     "iopub.status.busy": "2024-11-27T17:01:42.636452Z",
     "iopub.status.idle": "2024-11-27T17:01:42.820613Z",
     "shell.execute_reply": "2024-11-27T17:01:42.820143Z"
    }
   },
   "outputs": [
    {
     "data": {
      "text/html": [
       "<div>\n",
       "<style scoped>\n",
       "    .dataframe tbody tr th:only-of-type {\n",
       "        vertical-align: middle;\n",
       "    }\n",
       "\n",
       "    .dataframe tbody tr th {\n",
       "        vertical-align: top;\n",
       "    }\n",
       "\n",
       "    .dataframe thead th {\n",
       "        text-align: right;\n",
       "    }\n",
       "</style>\n",
       "<table border=\"1\" class=\"dataframe\">\n",
       "  <thead>\n",
       "    <tr style=\"text-align: right;\">\n",
       "      <th></th>\n",
       "      <th>effect</th>\n",
       "      <th>variant_id</th>\n",
       "      <th>lbf</th>\n",
       "      <th>pos</th>\n",
       "      <th>stat</th>\n",
       "    </tr>\n",
       "  </thead>\n",
       "  <tbody>\n",
       "    <tr>\n",
       "      <th>0</th>\n",
       "      <td>L2</td>\n",
       "      <td>chr6_6240456_G_T</td>\n",
       "      <td>-1.856137</td>\n",
       "      <td>6240456</td>\n",
       "      <td>-1.856137</td>\n",
       "    </tr>\n",
       "    <tr>\n",
       "      <th>1</th>\n",
       "      <td>L1</td>\n",
       "      <td>chr6_6240456_G_T</td>\n",
       "      <td>-2.131536</td>\n",
       "      <td>6240456</td>\n",
       "      <td>-2.131536</td>\n",
       "    </tr>\n",
       "    <tr>\n",
       "      <th>2</th>\n",
       "      <td>L3</td>\n",
       "      <td>chr6_6240456_G_T</td>\n",
       "      <td>-1.686867</td>\n",
       "      <td>6240456</td>\n",
       "      <td>-1.686867</td>\n",
       "    </tr>\n",
       "    <tr>\n",
       "      <th>3</th>\n",
       "      <td>L2</td>\n",
       "      <td>chr6_6240775_G_A</td>\n",
       "      <td>-1.625140</td>\n",
       "      <td>6240775</td>\n",
       "      <td>-1.625140</td>\n",
       "    </tr>\n",
       "    <tr>\n",
       "      <th>4</th>\n",
       "      <td>L1</td>\n",
       "      <td>chr6_6240775_G_A</td>\n",
       "      <td>-1.957334</td>\n",
       "      <td>6240775</td>\n",
       "      <td>-1.957334</td>\n",
       "    </tr>\n",
       "  </tbody>\n",
       "</table>\n",
       "</div>"
      ],
      "text/plain": [
       "  effect        variant_id       lbf      pos      stat\n",
       "0     L2  chr6_6240456_G_T -1.856137  6240456 -1.856137\n",
       "1     L1  chr6_6240456_G_T -2.131536  6240456 -2.131536\n",
       "2     L3  chr6_6240456_G_T -1.686867  6240456 -1.686867\n",
       "3     L2  chr6_6240775_G_A -1.625140  6240775 -1.625140\n",
       "4     L1  chr6_6240775_G_A -1.957334  6240775 -1.957334"
      ]
     },
     "execution_count": 10,
     "metadata": {},
     "output_type": "execute_result"
    }
   ],
   "source": [
    "trans_df = trans_lbf.melt(ignore_index=False).reset_index().rename(columns={'index': 'effect', 'value': 'lbf'})\n",
    "trans_df['pos'] = trans_df.variant_id.str.split('_', expand=True)[1].astype(int)\n",
    "trans_df['stat'] = trans_df.lbf\n",
    "trans_df.head()"
   ]
  },
  {
   "cell_type": "code",
   "execution_count": 11,
   "metadata": {
    "execution": {
     "iopub.execute_input": "2024-11-27T17:01:42.823136Z",
     "iopub.status.busy": "2024-11-27T17:01:42.822979Z",
     "iopub.status.idle": "2024-11-27T17:01:43.998213Z",
     "shell.execute_reply": "2024-11-27T17:01:43.997677Z"
    }
   },
   "outputs": [
    {
     "data": {
      "text/html": [
       "<div>\n",
       "<style scoped>\n",
       "    .dataframe tbody tr th:only-of-type {\n",
       "        vertical-align: middle;\n",
       "    }\n",
       "\n",
       "    .dataframe tbody tr th {\n",
       "        vertical-align: top;\n",
       "    }\n",
       "\n",
       "    .dataframe thead th {\n",
       "        text-align: right;\n",
       "    }\n",
       "</style>\n",
       "<table border=\"1\" class=\"dataframe\">\n",
       "  <thead>\n",
       "    <tr style=\"text-align: right;\">\n",
       "      <th></th>\n",
       "      <th>effect</th>\n",
       "      <th>variant_id</th>\n",
       "      <th>lbf</th>\n",
       "      <th>pos</th>\n",
       "      <th>stat</th>\n",
       "    </tr>\n",
       "  </thead>\n",
       "  <tbody>\n",
       "    <tr>\n",
       "      <th>0</th>\n",
       "      <td>L1</td>\n",
       "      <td>chr6_6107856_A_C</td>\n",
       "      <td>-1.360320</td>\n",
       "      <td>6107856</td>\n",
       "      <td>-1.360320</td>\n",
       "    </tr>\n",
       "    <tr>\n",
       "      <th>1</th>\n",
       "      <td>L1</td>\n",
       "      <td>chr6_6107992_A_T</td>\n",
       "      <td>-0.693899</td>\n",
       "      <td>6107992</td>\n",
       "      <td>-0.693899</td>\n",
       "    </tr>\n",
       "    <tr>\n",
       "      <th>2</th>\n",
       "      <td>L1</td>\n",
       "      <td>chr6_6108259_A_G</td>\n",
       "      <td>-1.004431</td>\n",
       "      <td>6108259</td>\n",
       "      <td>-1.004431</td>\n",
       "    </tr>\n",
       "    <tr>\n",
       "      <th>3</th>\n",
       "      <td>L1</td>\n",
       "      <td>chr6_6108616_C_A</td>\n",
       "      <td>-1.353083</td>\n",
       "      <td>6108616</td>\n",
       "      <td>-1.353083</td>\n",
       "    </tr>\n",
       "    <tr>\n",
       "      <th>4</th>\n",
       "      <td>L1</td>\n",
       "      <td>chr6_6108902_A_G</td>\n",
       "      <td>-1.166385</td>\n",
       "      <td>6108902</td>\n",
       "      <td>-1.166385</td>\n",
       "    </tr>\n",
       "  </tbody>\n",
       "</table>\n",
       "</div>"
      ],
      "text/plain": [
       "  effect        variant_id       lbf      pos      stat\n",
       "0     L1  chr6_6107856_A_C -1.360320  6107856 -1.360320\n",
       "1     L1  chr6_6107992_A_T -0.693899  6107992 -0.693899\n",
       "2     L1  chr6_6108259_A_G -1.004431  6108259 -1.004431\n",
       "3     L1  chr6_6108616_C_A -1.353083  6108616 -1.353083\n",
       "4     L1  chr6_6108902_A_G -1.166385  6108902 -1.166385"
      ]
     },
     "execution_count": 11,
     "metadata": {},
     "output_type": "execute_result"
    }
   ],
   "source": [
    "cis_df = cis_lbf.melt(ignore_index=False).reset_index().rename(columns={'index': 'effect', 'value': 'lbf'})\n",
    "cis_df['pos'] = cis_df.variant_id.str.split('_', expand=True)[1].astype(int)\n",
    "cis_df['stat'] = cis_df.lbf\n",
    "cis_df.head()"
   ]
  },
  {
   "cell_type": "code",
   "execution_count": 12,
   "metadata": {
    "execution": {
     "iopub.execute_input": "2024-11-27T17:01:44.000243Z",
     "iopub.status.busy": "2024-11-27T17:01:43.999994Z",
     "iopub.status.idle": "2024-11-27T17:02:15.886912Z",
     "shell.execute_reply": "2024-11-27T17:02:15.886341Z"
    }
   },
   "outputs": [
    {
     "name": "stderr",
     "output_type": "stream",
     "text": [
      "/tmp/ipykernel_3618373/406102838.py:31: SettingWithCopyWarning: \n",
      "A value is trying to be set on a copy of a slice from a DataFrame.\n",
      "Try using .loc[row_indexer,col_indexer] = value instead\n",
      "\n",
      "See the caveats in the documentation: https://pandas.pydata.org/pandas-docs/stable/user_guide/indexing.html#returning-a-view-versus-a-copy\n",
      "  df['ld'] = df.variant_id.map(compute_ld(alt_allele_counts, lead_variant).to_dict())\n",
      "/tmp/ipykernel_3618373/406102838.py:4: MatplotlibDeprecationWarning: The get_cmap function was deprecated in Matplotlib 3.7 and will be removed two minor releases later. Use ``matplotlib.colormaps[name]`` or ``matplotlib.colormaps.get_cmap(obj)`` instead.\n",
      "  cmap = cm.get_cmap(palette)\n"
     ]
    },
    {
     "name": "stderr",
     "output_type": "stream",
     "text": [
      "/tmp/ipykernel_3618373/406102838.py:31: SettingWithCopyWarning: \n",
      "A value is trying to be set on a copy of a slice from a DataFrame.\n",
      "Try using .loc[row_indexer,col_indexer] = value instead\n",
      "\n",
      "See the caveats in the documentation: https://pandas.pydata.org/pandas-docs/stable/user_guide/indexing.html#returning-a-view-versus-a-copy\n",
      "  df['ld'] = df.variant_id.map(compute_ld(alt_allele_counts, lead_variant).to_dict())\n",
      "/tmp/ipykernel_3618373/406102838.py:4: MatplotlibDeprecationWarning: The get_cmap function was deprecated in Matplotlib 3.7 and will be removed two minor releases later. Use ``matplotlib.colormaps[name]`` or ``matplotlib.colormaps.get_cmap(obj)`` instead.\n",
      "  cmap = cm.get_cmap(palette)\n"
     ]
    },
    {
     "name": "stderr",
     "output_type": "stream",
     "text": [
      "/tmp/ipykernel_3618373/406102838.py:4: MatplotlibDeprecationWarning: The get_cmap function was deprecated in Matplotlib 3.7 and will be removed two minor releases later. Use ``matplotlib.colormaps[name]`` or ``matplotlib.colormaps.get_cmap(obj)`` instead.\n",
      "  cmap = cm.get_cmap(palette)\n"
     ]
    },
    {
     "name": "stderr",
     "output_type": "stream",
     "text": [
      "DEBUG:pygenometracks.tracks.GenomeTrack:ylim 1.08,-0.08\n"
     ]
    },
    {
     "name": "stderr",
     "output_type": "stream",
     "text": [
      "DEBUG:pygenometracks.tracks.GenomeTrack:ylim (1.08, -0.08)\n"
     ]
    },
    {
     "name": "stderr",
     "output_type": "stream",
     "text": [
      "/tmp/ipykernel_3618373/406102838.py:91: UserWarning: This figure includes Axes that are not compatible with tight_layout, so results might be incorrect.\n",
      "  fig.tight_layout()\n"
     ]
    },
    {
     "data": {
      "image/png": "[encoded data removed]",
      "text/plain": [
       "<Figure size 600x700 with 5 Axes>"
      ]
     },
     "metadata": {},
     "output_type": "display_data"
    }
   ],
   "source": [
    "def locuszoom(df, ax, lead_variant, palette='Blues'):\n",
    "    # dataframe needs a 'pos', 'variant_id', 'stat', 'ld' column\n",
    "\n",
    "    cmap = cm.get_cmap(palette)\n",
    "    bounds = [0, 0.2, 0.4, 0.6, 0.8, 1.0]\n",
    "    new_cmap = tm.truncate_colormap(cmap, 0, 0.7, n=cmap.N)\n",
    "    norm = mpl.colors.BoundaryNorm(bounds, new_cmap.N)\n",
    "\n",
    "    lead_variant_marker =  {'marker': 'D', 'color': new_cmap(norm(1.0)), 'edgecolor': 'black', 's': 50}\n",
    "    kwargs = {'hue': 'ld', 'palette': new_cmap, 'hue_norm': norm, 'legend': True, 'edgecolor': 'None', 'legend': False}\n",
    "\n",
    "    sns.scatterplot(x='pos', y='stat', data=df, ax=ax, **kwargs)\n",
    "    sns.scatterplot(x='pos', y='stat', data=df[df.variant_id==lead_variant], ax=ax, legend=False, **lead_variant_marker)\n",
    "    ax.set_xlabel('Position')\n",
    "    ax.xaxis.set_major_formatter(tm.pos_formatter)\n",
    "\n",
    "    return (ax, norm, new_cmap)\n",
    "\n",
    "\n",
    "fig, axs = plt.subplots(nrows=3, figsize=(6, 7), gridspec_kw={'height_ratios': [1, 1, 0.6]})\n",
    "XMIN = 7.21e6\n",
    "XMAX = 7.2575e6\n",
    "\n",
    "ax = axs[0]\n",
    "texts = []\n",
    "for i, (effect, palette) in enumerate(zip(['L1', 'L2'], ['Greens', 'Reds'])):\n",
    "    df = trans_df[trans_df.effect==effect]\n",
    "    lead_variant = df.sort_values('stat', ascending=False).variant_id.values[0]\n",
    "    lead_variant_pos = int(lead_variant.split('_')[1])\n",
    "    lead_variant_stat = df[df.variant_id==lead_variant].stat.values[0]\n",
    "    df['ld'] = df.variant_id.map(compute_ld(alt_allele_counts, lead_variant).to_dict())\n",
    "    (ax, norm, cmap) = locuszoom(df, ax, lead_variant, palette=palette)\n",
    "    ax.set_xlim(XMIN, XMAX)\n",
    "    ax.plot([lead_variant_pos, lead_variant_pos], [df.stat.min(), lead_variant_stat], color=palette.rstrip('s').lower(), ls='--')\n",
    "    cax = inset_axes(ax, width=0.1, height=0.8, bbox_to_anchor=(0.05+0.03*i,1), bbox_transform=ax.transAxes)\n",
    "    if i == 1:\n",
    "        fig.colorbar(mpl.cm.ScalarMappable(norm=norm, cmap=cmap), cax=cax, orientation='vertical', label='$r^2$')\n",
    "    else:\n",
    "        cbar = fig.colorbar(mpl.cm.ScalarMappable(norm=norm, cmap=cmap), cax=cax, orientation='vertical', label='')\n",
    "        cbar.set_ticks([])\n",
    "    texts.append(ax.text(lead_variant_pos, lead_variant_stat, lead_variant if effect == 'L1' else f'{lead_variant}\\n(RREB1 missense)', ha='right'))\n",
    "ax.set_ylim(bottom=trans_df.stat.min())\n",
    "adjust_text(texts, ax=ax, arrowprops=dict(arrowstyle='-', color='black'), x=trans_df.pos.to_list(), y=trans_df.stat.to_list())\n",
    "ax.set_title(f'{TRANS_MODALITY} for {TRANS_GENE_NAME} (gene on {TRANS_GENE_CHROM})')\n",
    "ax.set_ylabel('Finemapping log(BF)')\n",
    "ax.set_xticks([])\n",
    "ax.set_xlabel('')\n",
    "\n",
    "\n",
    "ax = axs[1]\n",
    "texts = []\n",
    "for effect, palette in zip(['L1'], ['Greens']):\n",
    "    df = cis_df[cis_df.effect==effect]\n",
    "    lead_variant = df.sort_values('stat', ascending=False).variant_id.values[0]\n",
    "    lead_variant_pos = int(lead_variant.split('_')[1])\n",
    "    lead_variant_stat = df[df.variant_id==lead_variant].stat.values[0]\n",
    "    df['ld'] = df.variant_id.map(compute_ld(alt_allele_counts, lead_variant).to_dict())\n",
    "    locuszoom(df, ax, lead_variant, palette=palette)\n",
    "    ax.set_xlim(XMIN, XMAX)\n",
    "    texts.append(ax.text(lead_variant_pos, lead_variant_stat, lead_variant))\n",
    "    #ax.axvline(lead_variant_pos, color=palette.rstrip('s').lower(), ls='--')\n",
    "    ax.plot([lead_variant_pos, lead_variant_pos], [df.stat.min(), lead_variant_stat], color=palette.rstrip('s').lower(), ls='--')\n",
    "ax.set_ylim(bottom=cis_df.stat.min())\n",
    "ax.set_title(f'{CIS_MODALITY} for {CIS_GENE_NAME} (gene on {CIS_GENE_CHROM})')\n",
    "ax.set_ylabel('Finemapping log(BF)')\n",
    "adjust_text(texts, ax=ax, arrowprops=dict(arrowstyle='-', color='black'), x=cis_df.pos.to_list(), y=cis_df.stat.to_list())\n",
    "ax.set_xticks([])\n",
    "ax.set_xlabel('')\n",
    "\n",
    "\n",
    "# gene model\n",
    "ax = axs[2]\n",
    "XLIMS = [XMIN, XMAX]\n",
    "ax.set_xlim(XLIMS)\n",
    "for effect, palette in zip(['L1', 'L2'], ['Greens', 'Reds']):\n",
    "    df = trans_df[trans_df.effect==effect]\n",
    "    lead_variant = df.sort_values('stat', ascending=False).variant_id.values[0]\n",
    "    lead_variant_pos = int(lead_variant.split('_')[1])\n",
    "    lead_variant_stat = df[df.variant_id==lead_variant].stat.values[0]\n",
    "    ax.axvline(lead_variant_pos, color=palette.rstrip('s').lower(), ls='--')\n",
    "tk.plot(ax, CIS_GENE_CHROM, XMIN, XMAX)\n",
    "ax.xaxis.set_major_formatter(tm.pos_formatter)\n",
    "ax.set_xlabel(f'Position ({CIS_GENE_CHROM})')\n",
    "ax.set_yticks([])\n",
    "ax.set_ylim(-2, 1)\n",
    "ax.spines['top'].set_visible(False)\n",
    "ax.spines['left'].set_visible(False)\n",
    "ax.spines['right'].set_visible(False)\n",
    "\n",
    "\n",
    "fig.tight_layout()\n",
    "fig.savefig(f'figures/{PREFIX}{CIS_GENE}___{TRANS_GENE}.png', dpi=300, facecolor='white')"
   ]
  },
  {
   "cell_type": "code",
   "execution_count": null,
   "metadata": {},
   "outputs": [],
   "source": []
  }
 ],
 "metadata": {
  "kernelspec": {
   "display_name": "2020-09",
   "language": "python",
   "name": "python3"
  },
  "language_info": {
   "codemirror_mode": {
    "name": "ipython",
    "version": 3
   },
   "file_extension": ".py",
   "mimetype": "text/x-python",
   "name": "python",
   "nbconvert_exporter": "python",
   "pygments_lexer": "ipython3",
   "version": "3.12.7"
  }
 },
 "nbformat": 4,
 "nbformat_minor": 2
}
